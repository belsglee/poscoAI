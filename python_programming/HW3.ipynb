{
 "cells": [
  {
   "cell_type": "markdown",
   "metadata": {},
   "source": [
    "# add_comma"
   ]
  },
  {
   "cell_type": "code",
   "execution_count": 5,
   "metadata": {},
   "outputs": [
    {
     "name": "stdout",
     "output_type": "stream",
     "text": [
      "1,234\n",
      "12,345,678\n",
      "12\n"
     ]
    }
   ],
   "source": [
    "def add_comma(val):\n",
    "    return format(val, ',')\n",
    "\n",
    "def main():\n",
    "    comma_added_1234 = add_comma(1234)\n",
    "    comma_added_12345678 = add_comma(12345678)\n",
    "    comma_added_12 = add_comma(12)\n",
    "    \n",
    "    print(comma_added_1234)\n",
    "    print(comma_added_12345678)\n",
    "    print(comma_added_12)\n",
    "    \n",
    "main()"
   ]
  },
  {
   "cell_type": "markdown",
   "metadata": {},
   "source": [
    "# Tok"
   ]
  },
  {
   "cell_type": "code",
   "execution_count": 46,
   "metadata": {},
   "outputs": [
    {
     "name": "stdout",
     "output_type": "stream",
     "text": [
      "['There', 'was', 'a', 'farmer', 'who', 'had', 'a', 'dog', '.']\n",
      "['There was', 'was a', 'a farmer', 'farmer who', 'who had', 'had a', 'a dog', 'dog .']\n"
     ]
    }
   ],
   "source": [
    "def tokenize(trg, N=1):\n",
    "    \n",
    "    tokened = trg.split()\n",
    "    tokenedN = []\n",
    "    \n",
    "    if N == 1:\n",
    "        return tokened\n",
    "    \n",
    "    for i in range(len(tokened)-1):\n",
    "        tokenedN.append(\" \".join(tokened[i:i+N]))\n",
    "    return tokenedN\n",
    " \n",
    "def main():\n",
    "    a= \"There was a farmer who had a dog .\"\n",
    "    print(tokenize(a))\n",
    "    print(tokenize(a, 2))\n",
    "    \n",
    "main()"
   ]
  },
  {
   "cell_type": "markdown",
   "metadata": {},
   "source": [
    "# mean_and_var"
   ]
  },
  {
   "cell_type": "code",
   "execution_count": 103,
   "metadata": {},
   "outputs": [
    {
     "name": "stdout",
     "output_type": "stream",
     "text": [
      "평균: 0.50, 0.50 / 분산: 0.17, 0.17\n"
     ]
    }
   ],
   "source": [
    "def mean_and_var(*val):\n",
    "    \n",
    "    x, y, xx, yy = 0, 0, 0, 0\n",
    "    lenval = len(val)\n",
    "\n",
    "    \n",
    "    for i in val:\n",
    "        x += i[0]\n",
    "        y += i[1]\n",
    "        \n",
    "    xavg = x/lenval\n",
    "    yavg = y/lenval\n",
    "    \n",
    "    for i in val:\n",
    "        xx += (i[0] - xavg)**2\n",
    "        yy += (i[1] - yavg)**2\n",
    "\n",
    "    xvar = xx/lenval\n",
    "    yvar = yy/lenval\n",
    "        \n",
    "    return (xavg, yavg), (xvar, yvar)\n",
    "\n",
    "\n",
    "\n",
    "def main():\n",
    "    v1=(0, 1)\n",
    "    v2=(0.5, 0.5)\n",
    "    v3=(1, 0)\n",
    "   # print(mean_and_var(v1,v2,v3))\n",
    "    m, var = mean_and_var(v1, v2, v3)\n",
    "\n",
    "    print('평균: %.2f, %.2f' % m, '/ 분산: %.2f, %.2f' %(var))\n",
    "    \n",
    "main()"
   ]
  },
  {
   "cell_type": "code",
   "execution_count": null,
   "metadata": {},
   "outputs": [],
   "source": []
  }
 ],
 "metadata": {
  "kernelspec": {
   "display_name": "Python 3",
   "language": "python",
   "name": "python3"
  },
  "language_info": {
   "codemirror_mode": {
    "name": "ipython",
    "version": 3
   },
   "file_extension": ".py",
   "mimetype": "text/x-python",
   "name": "python",
   "nbconvert_exporter": "python",
   "pygments_lexer": "ipython3",
   "version": "3.7.3"
  },
  "toc": {
   "base_numbering": 1,
   "nav_menu": {},
   "number_sections": true,
   "sideBar": true,
   "skip_h1_title": false,
   "title_cell": "Table of Contents",
   "title_sidebar": "Contents",
   "toc_cell": false,
   "toc_position": {},
   "toc_section_display": true,
   "toc_window_display": false
  }
 },
 "nbformat": 4,
 "nbformat_minor": 2
}
