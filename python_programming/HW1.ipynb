{
 "cells": [
  {
   "cell_type": "markdown",
   "metadata": {},
   "source": [
    "# 파이썬 프로그래밍 기초 실습1"
   ]
  },
  {
   "cell_type": "markdown",
   "metadata": {},
   "source": [
    "## (문제 1) PPT(실습 문제1)\n",
    "화씨온도(℉)를 입력 받아서 섭씨온도(℃)로 바꾸는 프로그램을 작성하시오. (밑줄은 사용자 입력)"
   ]
  },
  {
   "cell_type": "code",
   "execution_count": null,
   "metadata": {},
   "outputs": [],
   "source": [
    "celsius = int(input(\"화씨온도:\"))\n",
    "fahrenheit = (celsius - 32) * 5/9\n",
    "\n",
    "print(\"섭씨온도:\", fahrenheit)"
   ]
  },
  {
   "cell_type": "markdown",
   "metadata": {},
   "source": [
    "## (문제 2) 자동 판매기 프로그램"
   ]
  },
  {
   "cell_type": "code",
   "execution_count": null,
   "metadata": {},
   "outputs": [],
   "source": [
    "customer = int(input(\"투입한 돈\\t: \"))\n",
    "product = int(input(\"물건 값\\t: \"))\n",
    "\n",
    "balance = customer - product\n",
    "print(\"거스름 돈\\t:\", balance)\n",
    "print(\"500원짜리:\",int(balance/500))\n",
    "print(\"100원짜리:\",int(balance%500/100))"
   ]
  },
  {
   "cell_type": "markdown",
   "metadata": {},
   "source": [
    "## (문제 3) 원의 반지름을 r을 입력 받아, 원의 둘레와 넓이를 구하는 프로그램을 작성하시오."
   ]
  },
  {
   "cell_type": "code",
   "execution_count": null,
   "metadata": {},
   "outputs": [],
   "source": [
    "pi =3.141592\n",
    "radius = int(input(\"반지름을 입력하시오: \"))\n",
    "circumference = radius * 2 * pi\n",
    "area = radius**2 * pi\n",
    "\n",
    "print(\"원 둘레: %.2f\" %circumference)\n",
    "print(\"원 넓이: %.2f\" %area)"
   ]
  },
  {
   "cell_type": "markdown",
   "metadata": {},
   "source": [
    "## (문제 4) 한 문장을 입력 받아, 아래와 같이 각 알파벳 각 문자를 원소로 갖는 리스트를 작성하시오. (문장중에 ! , . ? –를 제외한 문자의 입력은 고려하지 않는다.)"
   ]
  },
  {
   "cell_type": "code",
   "execution_count": null,
   "metadata": {},
   "outputs": [],
   "source": [
    "sentence = input(\"한 문장을 입력하시오: \")\n",
    "result = [i for i in sentence]\n",
    "print(result)"
   ]
  },
  {
   "cell_type": "markdown",
   "metadata": {},
   "source": [
    "## (문제 5) 2개의 정수를 입력 받아, 사칙연산 및 나머지 연산의 결과를 아래와 같이 출력하는 프로그램을 작성하시오."
   ]
  },
  {
   "cell_type": "code",
   "execution_count": null,
   "metadata": {},
   "outputs": [],
   "source": [
    "two = input(\"Enter two integers: \")\n",
    "two = list(map(int, two.split()))\n",
    "\n",
    "a = two[0]\n",
    "b = two[1]\n",
    "\n",
    "print(\"%d + %d = %d\" % (a, b, a + b))\n",
    "print(\"%d - %d = %d\" % (a, b, a - b))\n",
    "print(\"%d * %d = %d\" % (a, b, a * b))\n",
    "print(\"%d / %d = %.1f\" % (a, b, a / b))\n",
    "print(\"%d %% %d = %d\" % (a, b, a%b))"
   ]
  },
  {
   "cell_type": "markdown",
   "metadata": {},
   "source": [
    "## (문제 6) 두 정수를 입력 받아, 합과 평균을 구하여 출력하는 프로그램을 작성하시오.\n",
    "(평균 소수 첫째 자리까지 나타내기) "
   ]
  },
  {
   "cell_type": "code",
   "execution_count": null,
   "metadata": {},
   "outputs": [],
   "source": [
    "two = input(\"Enter two integers: \")\n",
    "two = list(map(int, two.split()))\n",
    "\n",
    "a = two[0]\n",
    "b = two[1]\n",
    "\n",
    "print(\"The sum of %d and %d is %d\" % (a, b, a+b))\n",
    "print(\"The average of numbers is %.1f\" % ((a+b)/2))"
   ]
  },
  {
   "cell_type": "markdown",
   "metadata": {},
   "source": [
    "## (문제 7) PPT(실습문제2)\n",
    "아래의 실행예제를 참고하여 프로그램을 작성하라."
   ]
  },
  {
   "cell_type": "raw",
   "metadata": {},
   "source": [
    "날짜(연/월/일)입력: 2019/08/12\n",
    "입력한 날짜의 10년 후는 2029년 8월 12일"
   ]
  },
  {
   "cell_type": "code",
   "execution_count": null,
   "metadata": {},
   "outputs": [],
   "source": [
    "date = input(\"날짜를 입력하세요: \")\n",
    "year, month, day = date.split(\"/\")\n",
    "year = int(year)+ 10\n",
    "print(\"입력한 날짜의 10년 후는 %d년 %s월 %s일\" %(year, month, day))"
   ]
  },
  {
   "cell_type": "markdown",
   "metadata": {},
   "source": [
    "# 파이썬 프로그래밍 기초 실습2"
   ]
  },
  {
   "cell_type": "markdown",
   "metadata": {},
   "source": [
    "## 문제1) 입력 받은 정수가 짝수인지 홀수인지 판별"
   ]
  },
  {
   "cell_type": "code",
   "execution_count": null,
   "metadata": {},
   "outputs": [],
   "source": [
    "number = int(input(\"Enter a number: \"))\n",
    "if number % 2 != 0:\n",
    "    print(\"%d is odd number\" %number)\n",
    "else:\n",
    "    print(\"%d is even number\" %number)"
   ]
  },
  {
   "cell_type": "markdown",
   "metadata": {},
   "source": [
    "## 문제2) 프로그래밍 과목의 중간고사와 기말고사 점수를 입력 받아 평균과 학점을 구하는 프로그램을 작성하시오."
   ]
  },
  {
   "cell_type": "code",
   "execution_count": null,
   "metadata": {},
   "outputs": [],
   "source": [
    "midScore = int(input(\"Enter your midterm score: \"))\n",
    "finalScore = int(input(\"Enter your final score: \"))\n",
    "average = (midScore + finalScore)/2\n",
    "if average >= 90:\n",
    "    grade = \"A\"\n",
    "elif average >= 80:\n",
    "    grade = \"B\"\n",
    "elif average >= 70:\n",
    "    grade = \"C\"\n",
    "else:\n",
    "    grade = \"D\"\n",
    "\n",
    "print(\"Average\\t:\", average)\n",
    "print(\"Grade\\t:\",grade)"
   ]
  },
  {
   "cell_type": "markdown",
   "metadata": {},
   "source": [
    "## 문제3) PPT 문제 학생수준평가 시험에서 영어 점수와 수학 점수가 합해서 110점 이상이면 합격이다. 단, 각 점수가 40점 미만이면 불합격이다. 영어(eng), 수학(math)점수를 입력 받아 합격여부를 출력하는 프로그램을 작성하시오.\n",
    "출력예시는 실습 PPT를 참고하시오."
   ]
  },
  {
   "cell_type": "code",
   "execution_count": null,
   "metadata": {},
   "outputs": [],
   "source": [
    "eng = int(input(\"영어 점수 입력: \"))\n",
    "math = int(input(\"수학 점수 입력: \"))\n",
    "\n",
    "if eng + math >= 100:\n",
    "    if eng < 40:\n",
    "        print(\"불합격: 영어 점수 부족\")\n",
    "    elif math < 40:\n",
    "        print(\"불합격: 수학 점수 부족\")\n",
    "    else:\n",
    "        print(\"합격\")\n",
    "else:\n",
    "    print(\"불합격: 총합 점수 부족\")"
   ]
  },
  {
   "cell_type": "markdown",
   "metadata": {},
   "source": [
    "## 문제4) PPT 문제\n",
    "세 개의 정수를 입력 받아, 가장 큰 수만 출력하는 프로그램을 작성하시오. (max 함수 이용하지 않고 구할 것)"
   ]
  },
  {
   "cell_type": "code",
   "execution_count": null,
   "metadata": {},
   "outputs": [],
   "source": [
    "three = input(\"세 개의 수를 입력하시오: \")\n",
    "three = list(map(int, three.split()))\n",
    "maximum = 0\n",
    "\n",
    "for i in three:\n",
    "    if i > maximum:\n",
    "        maximum = i\n",
    "\n",
    "print(\"가장 큰 수는 %d입니다.\" %maximum)"
   ]
  },
  {
   "cell_type": "markdown",
   "metadata": {},
   "source": [
    "# 3 파이썬 프로그래밍 기초 실습 2_1"
   ]
  },
  {
   "cell_type": "markdown",
   "metadata": {},
   "source": [
    "## 문제1) 단어(문자열)가 주어질 때, 아래와 같이 출력되도록 작성하시오."
   ]
  },
  {
   "cell_type": "code",
   "execution_count": null,
   "metadata": {},
   "outputs": [],
   "source": [
    "word = 'Python'\n",
    "count = 0\n",
    "while count < len(word):\n",
    "    print(word[count])\n",
    "    count += 1"
   ]
  },
  {
   "cell_type": "code",
   "execution_count": null,
   "metadata": {},
   "outputs": [],
   "source": [
    "for i in word:\n",
    "    print(i)"
   ]
  },
  {
   "cell_type": "markdown",
   "metadata": {},
   "source": [
    "## 문제2) 아래와 같이 출력되는 프로그램을 작성하시오.\n",
    "10, 9, 8, 7, 6, 5, 4, 3, 2, 1, Happy new year!!"
   ]
  },
  {
   "cell_type": "code",
   "execution_count": null,
   "metadata": {},
   "outputs": [],
   "source": [
    "for i in range(10):\n",
    "    print(10-i, end=\", \")\n",
    "print(\"Happy new year!!\")"
   ]
  },
  {
   "cell_type": "markdown",
   "metadata": {},
   "source": [
    "## 문제3) 양의 두 정수 a, b를 입력 받아, a부터 b까지의 정수의 합을 구하여 출력하는 프로그램을 작성하시오. (for 또는 while을 이용할 것)\n",
    "단, 조건 a <= b 을 만족하는 값만 고려한다."
   ]
  },
  {
   "cell_type": "code",
   "execution_count": null,
   "metadata": {},
   "outputs": [],
   "source": [
    "two = input(\"Enter two integers: \")\n",
    "two = list(map(int, two.split()))\n",
    "\n",
    "a = two[0]\n",
    "b = two[1]\n",
    "total = 0\n",
    "\n",
    "for i in range (a, b+1):\n",
    "    total += i\n",
    "    \n",
    "print(\"The sum from %d to %d is %d\" %(a, b, total))"
   ]
  },
  {
   "cell_type": "markdown",
   "metadata": {},
   "source": [
    "## 문제4) 주어진 문자열에 문자a가 몇 개 있는지 구하는 프로그램을 작성하시오.(for문 사용할 것)"
   ]
  },
  {
   "cell_type": "code",
   "execution_count": null,
   "metadata": {},
   "outputs": [],
   "source": [
    "word = \"banana\"\n",
    "count = 0\n",
    "for i in word:\n",
    "    if i == \"a\":\n",
    "        count += 1\n",
    "        \n",
    "print(count)"
   ]
  },
  {
   "cell_type": "markdown",
   "metadata": {},
   "source": [
    "## 문제5) for 문과 range()함수를 이용하여 다음과 같이 출력되도록 작성하시오."
   ]
  },
  {
   "cell_type": "raw",
   "metadata": {},
   "source": [
    "0 1 2 3 4 5 6 7 8 9\n",
    "0 5 10 15 20 25 30 35 40 45 50\n",
    "10 9 8 7 6 5 4 3 2 1"
   ]
  },
  {
   "cell_type": "code",
   "execution_count": null,
   "metadata": {},
   "outputs": [],
   "source": [
    "for i in range (10):\n",
    "    print(i, end=\" \")\n",
    "print()\n",
    "    \n",
    "for i in range (0, 51, 5):\n",
    "    print(i, end=\" \")\n",
    "print()\n",
    "    \n",
    "for i in range (10):\n",
    "    print(10 - i, end=\" \")"
   ]
  },
  {
   "cell_type": "markdown",
   "metadata": {},
   "source": [
    "## 문제6) for 문을 사용하여 리스트(colors)의 모든 내용을 출력하시오. (단, range()를 이용하지 않는다.)"
   ]
  },
  {
   "cell_type": "code",
   "execution_count": null,
   "metadata": {},
   "outputs": [],
   "source": [
    "colors = [\"red\", \"green\", \"blue\"]\n",
    "for color in colors:\n",
    "    print(color)"
   ]
  },
  {
   "cell_type": "markdown",
   "metadata": {},
   "source": [
    "## 문제7) 리스트 a 전체를 반복해서 방문하되, 짝수만 출력하시오.(for 문 사용)"
   ]
  },
  {
   "cell_type": "code",
   "execution_count": null,
   "metadata": {},
   "outputs": [],
   "source": [
    "a = [1, 3, 4, 5, 6, 7, 8, 9, 10, 11, 12, 13]\n",
    "\n",
    "for i in a:\n",
    "    if i % 2 == 0:\n",
    "        print (i, end = \" \")"
   ]
  },
  {
   "cell_type": "markdown",
   "metadata": {},
   "source": [
    "## 문제8) 구구단 출력1 – PPT 문제"
   ]
  },
  {
   "cell_type": "code",
   "execution_count": null,
   "metadata": {},
   "outputs": [],
   "source": [
    "num = int(input(\"출력하고 싶은 단을 입력하세요: \"))\n",
    "\n",
    "for i in range (1, 10):\n",
    "    print(\"%d * %d = %d\" % (num, i, i * num))\n",
    "    "
   ]
  },
  {
   "cell_type": "markdown",
   "metadata": {},
   "source": [
    "## 문제9) 구구단 출력2 (중첩 반복문)"
   ]
  },
  {
   "cell_type": "code",
   "execution_count": null,
   "metadata": {},
   "outputs": [],
   "source": [
    "for i in range (2, 10):\n",
    "    print(\"== %d단 ==\" %i)\n",
    "    for j in range (1, 10):\n",
    "        print(\"%d * %d = %d\" % (i, j, i * j))"
   ]
  },
  {
   "cell_type": "markdown",
   "metadata": {},
   "source": [
    "## 문제10) 구구단 출력2 (중첩 반복문)"
   ]
  },
  {
   "cell_type": "code",
   "execution_count": null,
   "metadata": {},
   "outputs": [],
   "source": [
    "for i in range (1, 10):\n",
    "    for j in range (2, 10):\n",
    "        print(\"%d * %d = %d\" % (j, i, i * j), end = \" \")\n",
    "    print()"
   ]
  },
  {
   "cell_type": "markdown",
   "metadata": {},
   "source": [
    "## 문제11) 아래와 같은 문장이 주어졌을 때, 아래의 실행예시처럼 출력되도록 작성하시오."
   ]
  },
  {
   "cell_type": "raw",
   "metadata": {},
   "source": [
    "word 1 sally\n",
    "word 2 goes\n",
    "word 3 to\n",
    "word 4 the\n",
    "word 5 store."
   ]
  },
  {
   "cell_type": "code",
   "execution_count": null,
   "metadata": {},
   "outputs": [],
   "source": [
    "sentence = \"sally goes to the store.\"\n",
    "slist = sentence.split()\n",
    "\n",
    "# index = 1\n",
    "# for elem in slist:\n",
    "#     print(\"word %d %s\" % (index, elem))\n",
    "#     index += 1\n",
    "    \n",
    "for i in range(1, len(slist)+1):\n",
    "    print(\"word %d %s\" % (i, slist[i-1]))"
   ]
  },
  {
   "cell_type": "markdown",
   "metadata": {},
   "source": [
    "## 문제12) 🌟 출력 프로그램 - PPT 문제"
   ]
  },
  {
   "cell_type": "code",
   "execution_count": null,
   "metadata": {},
   "outputs": [],
   "source": [
    "num = input(\"Input an integer: \")\n",
    "\n",
    "for i in num:\n",
    "    print(\"🌟\" * int(i))"
   ]
  },
  {
   "cell_type": "markdown",
   "metadata": {},
   "source": [
    "## 문제13) - PPT 문제\n",
    "“done“을 입력할 때까지 사용자로부터 숫자를 입력 받아 리스트에 저장하고, “done“을 입력하면, 리스트의 평균, 최대값과 최소값을 출력하는 프로그램을 작성하시오. \n",
    "(힌트) sum(), max(), min() 함수를 사용"
   ]
  },
  {
   "cell_type": "code",
   "execution_count": null,
   "metadata": {},
   "outputs": [],
   "source": [
    "nlist = []\n",
    "while True:\n",
    "    inp = input(\"Enter a number: \")\n",
    "    if inp == \"done\":\n",
    "        break\n",
    "    nlist.append(float(inp))\n",
    "\n",
    "print(\"Average:\", sum(nlist) / len(nlist))\n",
    "print(\"Maximum:\", max(nlist))\n",
    "print(\"Minimum:\", min(nlist))\n"
   ]
  },
  {
   "cell_type": "code",
   "execution_count": null,
   "metadata": {},
   "outputs": [],
   "source": []
  },
  {
   "cell_type": "code",
   "execution_count": null,
   "metadata": {},
   "outputs": [],
   "source": []
  },
  {
   "cell_type": "code",
   "execution_count": null,
   "metadata": {},
   "outputs": [],
   "source": []
  },
  {
   "cell_type": "code",
   "execution_count": null,
   "metadata": {},
   "outputs": [],
   "source": []
  },
  {
   "cell_type": "code",
   "execution_count": null,
   "metadata": {},
   "outputs": [],
   "source": []
  },
  {
   "cell_type": "code",
   "execution_count": null,
   "metadata": {},
   "outputs": [],
   "source": []
  },
  {
   "cell_type": "code",
   "execution_count": null,
   "metadata": {},
   "outputs": [],
   "source": []
  },
  {
   "cell_type": "code",
   "execution_count": null,
   "metadata": {},
   "outputs": [],
   "source": []
  }
 ],
 "metadata": {
  "kernelspec": {
   "display_name": "Python 3",
   "language": "python",
   "name": "python3"
  },
  "language_info": {
   "codemirror_mode": {
    "name": "ipython",
    "version": 3
   },
   "file_extension": ".py",
   "mimetype": "text/x-python",
   "name": "python",
   "nbconvert_exporter": "python",
   "pygments_lexer": "ipython3",
   "version": "3.7.3"
  },
  "toc": {
   "base_numbering": 1,
   "nav_menu": {
    "height": "154px",
    "width": "224px"
   },
   "number_sections": true,
   "sideBar": true,
   "skip_h1_title": false,
   "title_cell": "Table of Contents",
   "title_sidebar": "Contents",
   "toc_cell": false,
   "toc_position": {},
   "toc_section_display": true,
   "toc_window_display": true
  }
 },
 "nbformat": 4,
 "nbformat_minor": 2
}
