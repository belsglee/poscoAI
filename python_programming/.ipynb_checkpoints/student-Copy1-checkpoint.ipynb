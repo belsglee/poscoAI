{
 "cells": [
  {
   "cell_type": "code",
   "execution_count": 1,
   "metadata": {},
   "outputs": [],
   "source": [
    "# grading function\n",
    "\n",
    "def grading (avg):\n",
    "    if   avg >= 90: grade = \"A\"\n",
    "    elif avg >= 80: grade = \"B\"\n",
    "    elif avg >= 70: grade = \"C\"\n",
    "    elif avg >= 60: grade = \"D\"\n",
    "    else: \n",
    "        grade =\"F\"\n",
    "    return grade"
   ]
  },
  {
   "cell_type": "code",
   "execution_count": 36,
   "metadata": {},
   "outputs": [],
   "source": [
    "def show():\n",
    "    data = \"\"\n",
    "    for sid in students:\n",
    "#        print(sid, end=\"\\t\")\n",
    "\n",
    "        students[sid][\"Midterm\"] = str(students[sid][\"Midterm\"])\n",
    "        students[sid][\"Final\"] = str(students[sid][\"Final\"])\n",
    "        students[sid][\"Average\"] = str(students[sid][\"Average\"])\n",
    "        \n",
    "        a = \"\\t\".join(students[sid].values())\n",
    "#        for values in students[sid].values():\n",
    "#            print(values, end=\"\\t\")\n",
    "#            data += str(values)\n",
    "#            data += \"\\t\"\n",
    "#       data += \"\\n\"\n",
    "    print(a)"
   ]
  },
  {
   "cell_type": "code",
   "execution_count": 3,
   "metadata": {},
   "outputs": [],
   "source": [
    "def search():\n",
    "    sid = input(\"Student ID: \")\n",
    "    printer(sid)"
   ]
  },
  {
   "cell_type": "code",
   "execution_count": 4,
   "metadata": {},
   "outputs": [],
   "source": [
    "def add():\n",
    "    newID = input(\"Student ID: \")\n",
    "    if (newID in students.keys()):\n",
    "        print(\"ALREADY EXIST\")\n",
    "    else:\n",
    "        name = input(\"Name: \")\n",
    "        mid = int(input(\"Midterm Score: \"))\n",
    "        final = int(input(\"Final Score: \"))\n",
    "        students[newID] = {\"Name\" : name, \"Midterm\": mid, \"Final\" : final} \n",
    "        add_avgrade()\n",
    "        print(\"Student added\")"
   ]
  },
  {
   "cell_type": "code",
   "execution_count": 5,
   "metadata": {},
   "outputs": [],
   "source": [
    "def searchGrade():\n",
    "    targetGrade = input(\"Grade to search: \")\n",
    "    gradeset = \"ABCDF\"\n",
    "    if targetGrade in gradeset:\n",
    "        for sid in students:\n",
    "            if students[sid][\"Grade\"] == targetGrade: \n",
    "                printer(sid)"
   ]
  },
  {
   "cell_type": "code",
   "execution_count": 6,
   "metadata": {},
   "outputs": [],
   "source": [
    "def remove():\n",
    "    sid = input(\"Student ID: \")\n",
    "\n",
    "    if sid not in students:\n",
    "        print(\"NO SUCH PERSON.\")\n",
    "    else:\n",
    "        del students[sid]\n",
    "        print(\"Student removed\")"
   ]
  },
  {
   "cell_type": "code",
   "execution_count": 7,
   "metadata": {},
   "outputs": [],
   "source": [
    "def quit():\n",
    "    yORn = input(\"Save data?[yes/no]\")\n",
    "    if yORn == \"yes\":\n",
    "        fname = input(\"File name: \")\n",
    "        f_write = open(fname, \"r\")\n",
    "        f_write.write(printer(students))"
   ]
  },
  {
   "cell_type": "code",
   "execution_count": 16,
   "metadata": {},
   "outputs": [],
   "source": [
    "def printer(sid):\n",
    "    print(\"......\")\n",
    "    print(sid, end=\"\\t\")\n",
    "    for values in students[sid].values():\n",
    "        print(values, end=\"\\t\")\n",
    "        print()"
   ]
  },
  {
   "cell_type": "code",
   "execution_count": 17,
   "metadata": {},
   "outputs": [
    {
     "name": "stdout",
     "output_type": "stream",
     "text": [
      "Please input your command: q\n"
     ]
    }
   ],
   "source": [
    "while (True):\n",
    "    command = input(\"Please input your command: \")\n",
    "    if   command == \"show\": show()\n",
    "    elif command == \"search\": search()\n",
    "    elif command == \"changescore\": changeScore()\n",
    "    elif command == \"add\": add()\n",
    "    elif command == \"searchgrade\": searchGrade()\n",
    "    elif command == \"remove\": remove()\n",
    "    elif command == \"quit\": quit()\n",
    "    elif command == \"q\": break"
   ]
  },
  {
   "cell_type": "code",
   "execution_count": 13,
   "metadata": {},
   "outputs": [],
   "source": [
    "def changeScore():\n",
    "    sid = input(\"Student ID: \")\n",
    " \n",
    "    if sid in range(5):\n",
    "        print(\"NO SUCH PERSON.\")\n",
    "    else:\n",
    "        mORf = input(\"Mid/Final? \")\n",
    "        if mORf != \"mid\" and mORf != \"final\": return\n",
    "        newScore = int(input(\"Input new score: \"))\n",
    "        if newScore > 100 or newScore < 0: print(\"score not exist\");return\n",
    "        printer(sid)\n",
    "        if mORf == \"mid\":     students[sid][\"Midterm\"] = newScore \n",
    "        elif mORf == \"final\": students[sid][\"Final\"] = newScore \n",
    "\n",
    "        add_avgrade()\n",
    "        print(\"Score Changed\")\n",
    "        printer(sid)"
   ]
  },
  {
   "cell_type": "code",
   "execution_count": 11,
   "metadata": {},
   "outputs": [],
   "source": [
    "def add_avgrade():\n",
    "    for sid in students:\n",
    "        students[sid][\"Average\"] = (students[sid][\"Midterm\"] + students[sid][\"Final\"])/2\n",
    "        students[sid][\"Grade\"] = grading(students[sid][\"Average\"])"
   ]
  },
  {
   "cell_type": "code",
   "execution_count": 12,
   "metadata": {},
   "outputs": [],
   "source": [
    "def show():\n",
    "\n",
    "    columns = \"Student\\t\\tName\\t\\tMidterm\\tFinal\\tAverage\\tGrade\"\n",
    "    lines = \"-------------------------------------------------------------\"\n",
    "    print(columns+\"\\n\"+lines)\n",
    "    \n",
    "    for key, value in sorted(students.items(), key=lambda item: item[1][\"Average\"], reverse=True):\n",
    "        print(key, end=\"\\t\")\n",
    "        printer(key)"
   ]
  },
  {
   "cell_type": "code",
   "execution_count": null,
   "metadata": {},
   "outputs": [],
   "source": []
  },
  {
   "cell_type": "code",
   "execution_count": 56,
   "metadata": {},
   "outputs": [],
   "source": [
    "def alltogether():\n",
    "    \n",
    "    for sid in students:\n",
    "        for key, value in students[sid].items():\n",
    "            students[sid][key] = str(value)\n",
    "    \n",
    "    \n",
    "    \n",
    "    \n",
    "    \n",
    "    "
   ]
  },
  {
   "cell_type": "code",
   "execution_count": 57,
   "metadata": {},
   "outputs": [
    {
     "name": "stdout",
     "output_type": "stream",
     "text": [
      "{'20180001': {'Name': 'Hong Gildong', 'Midterm': '84', 'Final': '73', 'Average': '78.5', 'Grade': 'C'}, '20180002': {'Name': 'Lee Jieun', 'Midterm': '92', 'Final': '89', 'Average': '90.5', 'Grade': 'A'}, '20180007': {'Name': 'Kim Cheolsu', 'Midterm': '57', 'Final': '62', 'Average': '59.5', 'Grade': 'F'}, '20180009': {'Name': 'Lee Yeonghee', 'Midterm': '81', 'Final': '84', 'Average': '82.5', 'Grade': 'B'}, '20180011': {'Name': 'Ha Donghun', 'Midterm': '58', 'Final': '68', 'Average': '63.0', 'Grade': 'D'}}\n"
     ]
    }
   ],
   "source": [
    "import sys\n",
    "f = open(\"students.txt\", \"r\")\n",
    "students = {}\n",
    "\n",
    "for s in f.readlines():\n",
    "    s2 = s.rstrip().split()\n",
    "    students[s2[0]] = {\"Name\" : \" \".join(s2[1:3]), \"Midterm\": int(s2[3]), \"Final\" : int(s2[4])}\n",
    "\n",
    "add_avgrade()\n",
    "alltogether()\n",
    "\n",
    "    \n",
    "#sort()\n",
    "#printers()"
   ]
  },
  {
   "cell_type": "code",
   "execution_count": null,
   "metadata": {},
   "outputs": [],
   "source": []
  },
  {
   "cell_type": "code",
   "execution_count": null,
   "metadata": {},
   "outputs": [],
   "source": []
  }
 ],
 "metadata": {
  "kernelspec": {
   "display_name": "Python 3",
   "language": "python",
   "name": "python3"
  },
  "language_info": {
   "codemirror_mode": {
    "name": "ipython",
    "version": 3
   },
   "file_extension": ".py",
   "mimetype": "text/x-python",
   "name": "python",
   "nbconvert_exporter": "python",
   "pygments_lexer": "ipython3",
   "version": "3.7.3"
  },
  "toc": {
   "base_numbering": 1,
   "nav_menu": {},
   "number_sections": true,
   "sideBar": true,
   "skip_h1_title": false,
   "title_cell": "Table of Contents",
   "title_sidebar": "Contents",
   "toc_cell": false,
   "toc_position": {},
   "toc_section_display": true,
   "toc_window_display": false
  }
 },
 "nbformat": 4,
 "nbformat_minor": 2
}
