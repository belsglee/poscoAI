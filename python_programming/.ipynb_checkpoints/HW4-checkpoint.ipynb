{
 "cells": [
  {
   "cell_type": "markdown",
   "metadata": {},
   "source": [
    "### 과제1 - set.py"
   ]
  },
  {
   "cell_type": "raw",
   "metadata": {},
   "source": [
    "Set 클래스 구현\n",
    " list를 이용해 Set 구현\n",
    " Set은 list와 다르게, 같은 원소를 중복하여 가질 수 없음\n",
    " Union, Intersection, Difference 함수 구하기"
   ]
  },
  {
   "cell_type": "code",
   "execution_count": 1,
   "metadata": {},
   "outputs": [],
   "source": [
    "class Set:\n",
    "    def __init__ (self, member=[]):\n",
    "        self.member = member\n",
    "    \n",
    "    def __add__(self, s2):\n",
    "        return self.union(s2)\n",
    "    \n",
    "    def __sub__(self, s2):\n",
    "        return self.difference(s2)\n",
    "    \n",
    "    def __truediv__(self, s2):\n",
    "        return self.intersection(s2)\n",
    "    \n",
    "    def append(self, a):\n",
    "        if a not in self.member:\n",
    "            self.member.append(a)\n",
    "            \n",
    "    def delete(self, a):\n",
    "        while a in self.member:\n",
    "            self.member.remove(a)\n",
    "            \n",
    "    def union(self, s2): #합집합\n",
    "        c = []\n",
    "        c.extend([i for i in self.member])\n",
    "        c.extend([i for i in s2.member if i not in self.member])\n",
    "        return Set(c)\n",
    "        \n",
    "    def intersection (self, s2): #교집합\n",
    "        return Set([i for i in self.member if i in s2.member])\n",
    "        \n",
    "    def difference(self, s2): #차집합\n",
    "        self.member = [i for i in self.member if i not in s2.member]\n",
    "        return self\n",
    "\n",
    "    "
   ]
  },
  {
   "cell_type": "markdown",
   "metadata": {},
   "source": [
    "# 과제 2- people"
   ]
  },
  {
   "cell_type": "code",
   "execution_count": 2,
   "metadata": {},
   "outputs": [],
   "source": [
    "class Person:\n",
    "    def __init__ (self, name = \"\", age = 0, department = \"\"):\n",
    "        self.name = name\n",
    "        self.age = age\n",
    "        self.department = department\n",
    "        \n",
    "    def get_name(self):\n",
    "        return self.name"
   ]
  },
  {
   "cell_type": "code",
   "execution_count": 3,
   "metadata": {},
   "outputs": [],
   "source": [
    "class Professor(Person):\n",
    "    def __init__ (self, name = \"\", age = 0, department = \"\", position = \"\",laboratory = \"\", student = []):\n",
    "        Person.__init__(self, name = name, age = age, department = department)\n",
    "        self.position = position\n",
    "        self.laboratory = laboratory\n",
    "        self.student = student\n",
    "    \n",
    "    def print_info(self):\n",
    "        print(\"제 이름은 {}, 나이는 {}, 학과는 {}, 지도학생은\".format(self.name, self.age, self.department), \", \".join(self.student), \"입니다.\")\n",
    "    \n",
    "    def reg_student(self, s):\n",
    "        self.student.append(s.name)\n",
    "        \n",
    "class Student(Person):\n",
    "    def __init__ (self, name = \"\", age = 0, department = \"\", sid = 20000000, GPA = 0.0, advisor = Professor):\n",
    "        Person.__init__(self, name = name, age = age, department = department)\n",
    "        self.sid = sid\n",
    "        self.GPA = GPA\n",
    "        self.advisor = advisor\n",
    "        \n",
    "    def print_info(self):\n",
    "        return (\"제 이름은 {}, 나이는 {}, 학과는 {}, 지도교수님은 {} 입니다.\".format(self.name, self.age, self.department, self.advisor))\n",
    "\n",
    "    def reg_advisor(self, advisor):\n",
    "        self.advisor = advisor.name\n",
    "    \n"
   ]
  },
  {
   "cell_type": "code",
   "execution_count": 4,
   "metadata": {},
   "outputs": [
    {
     "data": {
      "text/plain": [
       "'제 이름은 Kim, 나이는 30, 학과는 Computer, 지도교수님은 Lee 입니다.'"
      ]
     },
     "execution_count": 4,
     "metadata": {},
     "output_type": "execute_result"
    }
   ],
   "source": [
    "stu1 = Student('Kim', 30, 'Computer', 20001234, 4.5)\n",
    "stu2 = Student('Lee', 22, 'Computer', 20101234, 0.5)\n",
    "prof1 = Professor('Lee', 55, 'Computer', 'Full', 'KLE')\n",
    "\n",
    "stu1.reg_advisor(prof1)\n",
    "stu2.reg_advisor(prof1)\n",
    "prof1.reg_student(stu1)\n",
    "prof1.reg_student(stu2)\n",
    "\n",
    "stu1.print_info()"
   ]
  },
  {
   "cell_type": "code",
   "execution_count": 8,
   "metadata": {},
   "outputs": [
    {
     "data": {
      "text/plain": [
       "'제 이름은 Lee, 나이는 22, 학과는 Computer, 지도교수님은 Lee 입니다.'"
      ]
     },
     "execution_count": 8,
     "metadata": {},
     "output_type": "execute_result"
    }
   ],
   "source": [
    "stu2.print_info()"
   ]
  },
  {
   "cell_type": "code",
   "execution_count": 9,
   "metadata": {},
   "outputs": [
    {
     "name": "stdout",
     "output_type": "stream",
     "text": [
      "제 이름은 Lee, 나이는 55, 학과는 Computer, 지도학생은 Kim, Lee 입니다.\n"
     ]
    }
   ],
   "source": [
    "prof1.print_info()"
   ]
  },
  {
   "cell_type": "markdown",
   "metadata": {},
   "source": [
    "# 과제 3"
   ]
  },
  {
   "cell_type": "code",
   "execution_count": 10,
   "metadata": {},
   "outputs": [],
   "source": [
    "import numpy as np\n",
    "x1 = np.array([0,0])\n",
    "x2 = np.array([0,1])\n",
    "x3 = np.array([1,0])\n",
    "x4 = np.array([1,1])\n",
    "\n",
    "W = np.array([[0,1],[1,2]])\n",
    "b = np.array([1,0])\n",
    "\n",
    "def and_op(W, x, b):\n",
    "    return np.argmax(W.dot(x) + b)\n"
   ]
  },
  {
   "cell_type": "code",
   "execution_count": null,
   "metadata": {},
   "outputs": [],
   "source": []
  },
  {
   "cell_type": "code",
   "execution_count": null,
   "metadata": {},
   "outputs": [],
   "source": []
  },
  {
   "cell_type": "code",
   "execution_count": null,
   "metadata": {},
   "outputs": [],
   "source": []
  }
 ],
 "metadata": {
  "kernelspec": {
   "display_name": "Python 3",
   "language": "python",
   "name": "python3"
  },
  "language_info": {
   "codemirror_mode": {
    "name": "ipython",
    "version": 3
   },
   "file_extension": ".py",
   "mimetype": "text/x-python",
   "name": "python",
   "nbconvert_exporter": "python",
   "pygments_lexer": "ipython3",
   "version": "3.7.3"
  },
  "toc": {
   "base_numbering": 1,
   "nav_menu": {},
   "number_sections": true,
   "sideBar": true,
   "skip_h1_title": false,
   "title_cell": "Table of Contents",
   "title_sidebar": "Contents",
   "toc_cell": false,
   "toc_position": {},
   "toc_section_display": true,
   "toc_window_display": false
  }
 },
 "nbformat": 4,
 "nbformat_minor": 2
}
