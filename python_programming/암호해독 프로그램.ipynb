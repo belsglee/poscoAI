{
 "cells": [
  {
   "cell_type": "code",
   "execution_count": 23,
   "metadata": {},
   "outputs": [
    {
     "data": {
      "text/plain": [
       "127775"
      ]
     },
     "execution_count": 23,
     "metadata": {},
     "output_type": "execute_result"
    }
   ],
   "source": [
    "ord(\"🌟\")"
   ]
  },
  {
   "cell_type": "code",
   "execution_count": 33,
   "metadata": {},
   "outputs": [
    {
     "data": {
      "text/plain": [
       "127922"
      ]
     },
     "execution_count": 33,
     "metadata": {},
     "output_type": "execute_result"
    }
   ],
   "source": [
    "ord(\"🎲\")"
   ]
  },
  {
   "cell_type": "code",
   "execution_count": 24,
   "metadata": {},
   "outputs": [
    {
     "data": {
      "text/plain": [
       "'🌟'"
      ]
     },
     "execution_count": 24,
     "metadata": {},
     "output_type": "execute_result"
    }
   ],
   "source": [
    "chr(127775)"
   ]
  },
  {
   "cell_type": "markdown",
   "metadata": {},
   "source": [
    "# 암호해독 프로그램"
   ]
  },
  {
   "cell_type": "code",
   "execution_count": 32,
   "metadata": {},
   "outputs": [
    {
     "name": "stdout",
     "output_type": "stream",
     "text": [
      "1. 암호화, 2.암호해석 중 선택: 1\n",
      "입력 파일명을 입력하세요: new.txt\n",
      "출력 파일명을 입력하세요: \n",
      "['1 line\\n', '2 line\\n', '3 line\\n', '4 line\\n', '5 line\\n']\n"
     ]
    }
   ],
   "source": [
    "select = input(\"1. 암호화, 2.암호해석 중 선택: \")\n",
    "fname = input(\"입력 파일명을 입력하세요: \")\n",
    "oname = input(\"출력 파일명을 입력하세요: \")\n",
    "f = open(fname, \"r\")\n",
    "f = f.readlines()\n",
    "\n",
    "for i in f():\n",
    "    \n",
    "\n",
    "print(f)\n",
    "\n",
    "if select == 1:\n",
    "    encrypt(f)\n",
    "elif select == 2:\n",
    "    encrypt(f)\n",
    "\n",
    "#def encrypt():\n"
   ]
  },
  {
   "cell_type": "code",
   "execution_count": null,
   "metadata": {},
   "outputs": [],
   "source": []
  }
 ],
 "metadata": {
  "kernelspec": {
   "display_name": "Python 3",
   "language": "python",
   "name": "python3"
  },
  "language_info": {
   "codemirror_mode": {
    "name": "ipython",
    "version": 3
   },
   "file_extension": ".py",
   "mimetype": "text/x-python",
   "name": "python",
   "nbconvert_exporter": "python",
   "pygments_lexer": "ipython3",
   "version": "3.7.3"
  },
  "toc": {
   "base_numbering": 1,
   "nav_menu": {},
   "number_sections": true,
   "sideBar": true,
   "skip_h1_title": false,
   "title_cell": "Table of Contents",
   "title_sidebar": "Contents",
   "toc_cell": false,
   "toc_position": {},
   "toc_section_display": true,
   "toc_window_display": false
  }
 },
 "nbformat": 4,
 "nbformat_minor": 2
}
