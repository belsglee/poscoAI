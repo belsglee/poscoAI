{
 "cells": [
  {
   "cell_type": "markdown",
   "metadata": {},
   "source": [
    "## 설치\n",
    "##### window\n",
    "pip install scikit-image==0.14.2 --user scikit-learn --user <br />\n",
    "conda install numpy <br />\n",
    "\n",
    "##### ubuntu\n",
    "conda install scikit-image==0.14.2 numpy scikit-learn <br />\n"
   ]
  },
  {
   "cell_type": "markdown",
   "metadata": {},
   "source": [
    "### Image Classification using LBP and HOG features"
   ]
  },
  {
   "cell_type": "code",
   "execution_count": 1,
   "metadata": {},
   "outputs": [],
   "source": [
    "# pylint: disable=missing-docstring\n",
    "from __future__ import absolute_import\n",
    "from __future__ import division\n",
    "from __future__ import print_function\n",
    "\n",
    "import os\n",
    "import re\n",
    "import sys\n",
    "import time\n",
    "import math\n",
    "import numpy as np\n",
    "import tensorflow as tf\n",
    "import matplotlib.pyplot as plt\n",
    "import cv2\n",
    "\n",
    "# own python codes\n",
    "sys.path.append(os.path.join(os.getcwd(), '..'))\n",
    "from utils import *\n",
    "from tensorflow.keras.datasets.cifar10 import load_data\n",
    "\n",
    "from skimage import feature\n",
    "from sklearn.ensemble import RandomForestClassifier\n",
    "from sklearn.metrics import confusion_matrix\n",
    "from sklearn.metrics import classification_report\n",
    "\n",
    "import numpy as np\n",
    " \n",
    "class LocalBinaryPatterns:\n",
    "    def __init__(self, numPoints, radius):\n",
    "        # store the number of points and radius\n",
    "        self.numPoints = numPoints\n",
    "        self.radius = radius\n",
    " \n",
    "    def describe(self, image):\n",
    "        # compute the Local Binary Pattern representation\n",
    "        # of the image, and then use the LBP representation\n",
    "        # to build the histogram of patterns\n",
    "        lbp = feature.local_binary_pattern(image, self.numPoints,\n",
    "                                           self.radius)\n",
    "        #flatten\n",
    "        (hist, _) = np.histogram(lbp.ravel(),\n",
    "                                 bins=16)\n",
    "        \n",
    "        # return the histogram of Local Binary Patterns\n",
    "        return hist, lbp"
   ]
  },
  {
   "cell_type": "code",
   "execution_count": 2,
   "metadata": {},
   "outputs": [],
   "source": [
    "# pylint: disable=missing-docstring\n",
    "from __future__ import absolute_import\n",
    "from __future__ import division\n",
    "from __future__ import print_function\n",
    "\n",
    "import os\n",
    "import re\n",
    "import sys\n",
    "import time\n",
    "import math\n",
    "import numpy as np\n",
    "import tensorflow as tf\n",
    "import matplotlib.pyplot as plt\n",
    "import cv2\n",
    "\n",
    "# own python codes\n",
    "sys.path.append(os.path.join(os.getcwd(), '..'))\n",
    "from utils import *\n",
    "from tensorflow.keras.datasets.cifar10 import load_data\n",
    "\n",
    "from skimage import feature\n",
    "from sklearn.ensemble import RandomForestClassifier\n",
    "from sklearn.metrics import confusion_matrix\n",
    "from sklearn.metrics import classification_report\n",
    "\n",
    "import numpy as np\n",
    "\n",
    "\n",
    " \n",
    "class LocalBinaryPatterns:\n",
    "    def __init__(self, numPoints, radius):\n",
    "        # store the number of points and radius\n",
    "        self.numPoints = numPoints\n",
    "        self.radius = radius\n",
    " \n",
    "    def describe(self, image):\n",
    "        # compute the Local Binary Pattern representation\n",
    "        # of the image, and then use the LBP representation\n",
    "        # to build the histogram of patterns\n",
    "        lbp = feature.local_binary_pattern(image, self.numPoints,\n",
    "                                           self.radius)\n",
    "        #flatten\n",
    "        (hist, _) = np.histogram(lbp.ravel(),\n",
    "                                 bins=16)\n",
    "        \n",
    "        # return the histogram of Local Binary Patterns\n",
    "        return hist, lbp\n",
    "    \n",
    "\n",
    "def get_batch(num,data,labels):\n",
    "    idx = np.arange(0,len(data))\n",
    "    np.random.shuffle(idx)\n",
    "    idx = idx[:num]\n",
    "    data_shuffle = [data[i] for i in idx]\n",
    "    labels_shuffle = [labels[:,0][i] for i in idx]\n",
    "    \n",
    "    return np.asarray(data_shuffle), np.asarray(labels_shuffle)"
   ]
  },
  {
   "cell_type": "markdown",
   "metadata": {},
   "source": [
    "skimage.feature.local_binary_pattern(image, P, R, method)\n",
    "- image: (N, M) array\n",
    "- P: number of neighbors\n",
    "- R: number of radius\n",
    "(P = R * 8)\n",
    "- method: {'default', 'ror', 'uniform', 'var'}\n",
    "\n",
    "output: (N, M) array"
   ]
  },
  {
   "cell_type": "markdown",
   "metadata": {},
   "source": [
    "### Download the CIFAR-10 dataset\n",
    "**CIFAR-10** dataset은 32x32 사이즈의 이미지 </br>\n",
    "\n",
    "class : airplane, automobile, bird, cat, deer, dog, frog, horse, ship, truck </br>\n",
    "\n",
    "클래스 별 6천장 </br>\n",
    "\n",
    "50000장이 training에 사용되고 10000장이 test에 사용 "
   ]
  },
  {
   "cell_type": "code",
   "execution_count": 3,
   "metadata": {},
   "outputs": [
    {
     "name": "stdout",
     "output_type": "stream",
     "text": [
      "(50000, 32, 32, 3) uint8\n",
      "(50000, 1) uint8\n",
      "(10000, 32, 32, 3) uint8\n",
      "(10000, 1) int64\n"
     ]
    }
   ],
   "source": [
    "(x_train,y_train), (x_test,y_test) = load_data()\n",
    "print(x_train.shape, x_train.dtype)\n",
    "print(y_train.shape, y_train.dtype)\n",
    "print(x_test.shape, x_test.dtype)\n",
    "print(y_test.shape, y_test.dtype)"
   ]
  },
  {
   "cell_type": "markdown",
   "metadata": {},
   "source": [
    "### Create data loader and check the CIFAR-10 dataset"
   ]
  },
  {
   "cell_type": "code",
   "execution_count": 4,
   "metadata": {
    "scrolled": true
   },
   "outputs": [
    {
     "data": {
      "image/png": "[encoded data removed]",
      "text/plain": [
       "<Figure size 432x288 with 4 Axes>"
      ]
     },
     "metadata": {
      "needs_background": "light"
     },
     "output_type": "display_data"
    }
   ],
   "source": [
    "batch_image, batch_label = get_batch(20,x_train,y_train)\n",
    "\n",
    "plt.subplot(141)\n",
    "plt.imshow(batch_image[0], interpolation=\"bicubic\")\n",
    "plt.grid(False)\n",
    "plt.subplot(142)\n",
    "plt.imshow(batch_image[4], interpolation=\"bicubic\")\n",
    "plt.grid(False)\n",
    "plt.subplot(143)\n",
    "plt.imshow(batch_image[8], interpolation=\"bicubic\")\n",
    "plt.grid(False)\n",
    "plt.subplot(144)\n",
    "plt.imshow(batch_image[9], interpolation=\"bicubic\")\n",
    "plt.grid(False)\n",
    "plt.show()"
   ]
  },
  {
   "cell_type": "markdown",
   "metadata": {},
   "source": [
    "사용할 LBP의 points와 radius를 정의하고 각 training image에서 추출된 LBP, HOG, ground truth를 저장할 변수 선언"
   ]
  },
  {
   "cell_type": "code",
   "execution_count": 5,
   "metadata": {},
   "outputs": [],
   "source": [
    "# initialize the local binary patterns descriptor along with\n",
    "# the data and label lists\n",
    "desc = LocalBinaryPatterns(8, 1) # num of points and radius\n",
    "\n",
    "train_lbp = []\n",
    "train_hog = []\n",
    "train_labels = []"
   ]
  },
  {
   "cell_type": "markdown",
   "metadata": {},
   "source": [
    "LBP와 HOG feature를 추출하기 위해 gray scale로 image를 변환하고 scikit-image library에 정의된 함수를 이용하여 각 feature를 추출한다."
   ]
  },
  {
   "cell_type": "code",
   "execution_count": 6,
   "metadata": {
    "scrolled": true
   },
   "outputs": [
    {
     "name": "stderr",
     "output_type": "stream",
     "text": [
      "/home/pirl/anaconda3/envs/edu/lib/python3.6/site-packages/skimage/feature/_hog.py:150: skimage_deprecation: Default value of `block_norm`==`L1` is deprecated and will be changed to `L2-Hys` in v0.15. To supress this message specify explicitly the normalization method.\n",
      "  skimage_deprecation)\n"
     ]
    },
    {
     "name": "stdout",
     "output_type": "stream",
     "text": [
      "feature gen: 0\n",
      "[202 157   8  64  31   6  17  54  41  19   1  15  79   6 118 206]\n",
      "144\n",
      "255.0\n",
      "0.0\n",
      "feature gen: 1000\n",
      "[123 177   0  41  33   4   6  86  31  16   1   8  84  21  38 355]\n",
      "144\n",
      "255.0\n",
      "0.0\n",
      "feature gen: 2000\n",
      "[131  95   6  43  27   6  23  79  39  14   3  18  91  12 150 287]\n",
      "144\n",
      "255.0\n",
      "0.0\n",
      "feature gen: 3000\n",
      "[243 106  11  68  27  11  13  70  80  19   8  17  96  18  61 176]\n",
      "144\n",
      "255.0\n",
      "0.0\n",
      "feature gen: 4000\n",
      "[232 135   8  53  30   8  19  73  52  19   2   6  49  12  82 244]\n",
      "144\n",
      "255.0\n",
      "0.0\n",
      "feature gen: 5000\n",
      "[210 116  10  47  38   7  17  57  57  24   3  16 117  12  96 197]\n",
      "144\n",
      "255.0\n",
      "0.0\n",
      "feature gen: 6000\n",
      "[175 109   9 103  31   4  19  82  81  13   2  26  78   4  95 193]\n",
      "144\n",
      "255.0\n",
      "0.0\n",
      "feature gen: 7000\n",
      "[194  96  10  94  39   3  15  83  81  13   4  25 101   7  86 173]\n",
      "144\n",
      "255.0\n",
      "0.0\n",
      "feature gen: 8000\n",
      "[172 148   4  60  29  11  11  97  65  23   0  14  88  19  75 208]\n",
      "144\n",
      "255.0\n",
      "0.0\n",
      "feature gen: 9000\n",
      "[200 156   6  82  42   7  25  69  56  14   3  14  98  14  77 161]\n",
      "144\n",
      "255.0\n",
      "0.0\n",
      "feature gen: 10000\n",
      "[198 145   3  55  43   3  17  81  66  12   1  20 101  11  82 186]\n",
      "144\n",
      "255.0\n",
      "0.0\n",
      "feature gen: 11000\n",
      "[201 168   7  87  24   4  14  48  54  10   4  12  92   9 116 174]\n",
      "144\n",
      "255.0\n",
      "0.0\n",
      "feature gen: 12000\n",
      "[214 143   4  54  34   7   9  52  66  24   1  19  95   8 114 180]\n",
      "144\n",
      "255.0\n",
      "0.0\n",
      "feature gen: 13000\n",
      "[188 126   6 118  33   2  15 110  78  17   1  15 122  10  53 130]\n",
      "144\n",
      "255.0\n",
      "0.0\n",
      "feature gen: 14000\n",
      "[201 182   4  40  26   5  22  60  46  17   1  14  75   5 120 206]\n",
      "144\n",
      "255.0\n",
      "0.0\n",
      "feature gen: 15000\n",
      "[225 234   3  45  24   4  11  40  35  16   0  12  63  10 106 196]\n",
      "144\n",
      "255.0\n",
      "0.0\n",
      "feature gen: 16000\n",
      "[190 101   5  74  41   7  25 100  57  18   4  27 126  11  67 171]\n",
      "144\n",
      "255.0\n",
      "0.0\n",
      "feature gen: 17000\n",
      "[218 138   4  72  44   5  13  64  90  18   0  31 109  12  63 143]\n",
      "144\n",
      "255.0\n",
      "0.0\n",
      "feature gen: 18000\n",
      "[203 189   4  53  20   3  12  70  35  14   4  10  77  11 101 218]\n",
      "144\n",
      "255.0\n",
      "0.0\n",
      "feature gen: 19000\n",
      "[206 140   6  68  39  10  13  79  55  17   1  22  71   6 117 174]\n",
      "144\n",
      "255.0\n",
      "0.0\n",
      "feature gen: 20000\n",
      "[195 102  10  65  42  11  20  70  59  14   1  19  70   6 112 228]\n",
      "144\n",
      "255.0\n",
      "0.0\n",
      "feature gen: 21000\n",
      "[225 108   5  68  38   3  26  86  36  20   0  15  67  13  90 224]\n",
      "144\n",
      "255.0\n",
      "0.0\n",
      "feature gen: 22000\n",
      "[216 132   6 107  34   4  19  85  60  10   3  22  98   7  60 161]\n",
      "144\n",
      "255.0\n",
      "0.0\n",
      "feature gen: 23000\n",
      "[211 141   5  52  31   5  20  57  44  14   2  17  75   6 117 227]\n",
      "144\n",
      "255.0\n",
      "0.0\n",
      "feature gen: 24000\n",
      "[233 118   5  54  23   6  10  81 103  14   1   9  90   6  82 189]\n",
      "144\n",
      "255.0\n",
      "0.0\n",
      "feature gen: 25000\n",
      "[213 181  11  47  20   8  16  41  37  16   2  21  58  20 127 206]\n",
      "144\n",
      "255.0\n",
      "0.0\n",
      "feature gen: 26000\n",
      "[139 117   2 157  35   4   7 137  86   8   1  16  79   7  58 171]\n",
      "144\n",
      "255.0\n",
      "0.0\n",
      "feature gen: 27000\n",
      "[138  97   4  44  39  12  11 139  69   8   1  24  90  16  38 294]\n",
      "144\n",
      "255.0\n",
      "0.0\n",
      "feature gen: 28000\n",
      "[135  68   2  95  32   3  16 102  87   8   4  14 157   4 107 190]\n",
      "144\n",
      "255.0\n",
      "0.0\n",
      "feature gen: 29000\n",
      "[235 128   5  69  39   9  15  76  53  19   5  38  85   8  60 180]\n",
      "144\n",
      "255.0\n",
      "0.0\n",
      "feature gen: 30000\n",
      "[201 169   6  59  34   3  14  61  34  19   2  16  97   9 106 194]\n",
      "144\n",
      "255.0\n",
      "0.0\n",
      "feature gen: 31000\n",
      "[192  87  12  50  37   5  23  79  51  21   5  24 101   8 113 216]\n",
      "144\n",
      "255.0\n",
      "0.0\n",
      "feature gen: 32000\n",
      "[152 164   1  38  24   3   9  83  42   8   1   7  65  12 144 271]\n",
      "144\n",
      "255.0\n",
      "0.0\n",
      "feature gen: 33000\n",
      "[201 188   2 115  35  11   7  91  78  21   2  17  86  15  31 124]\n",
      "144\n",
      "255.0\n",
      "0.0\n",
      "feature gen: 34000\n",
      "[215  89   4  69  41   6  23  70  90  22   5  34  92  10  74 180]\n",
      "144\n",
      "255.0\n",
      "0.0\n",
      "feature gen: 35000\n",
      "[215 100   6  69  42  10  18  84  64  16   5  23  88  10  72 202]\n",
      "144\n",
      "255.0\n",
      "0.0\n",
      "feature gen: 36000\n",
      "[157 116   0  94  18   1  10 112 166  12   0  11 123   5  57 142]\n",
      "144\n",
      "255.0\n",
      "0.0\n",
      "feature gen: 37000\n",
      "[138 213   7  66  11   2  21  59  26   6   0   6  76   3 189 201]\n",
      "144\n",
      "255.0\n",
      "0.0\n",
      "feature gen: 38000\n",
      "[141  72   3 124  40   4  24 127  54   7   1  22 134   9  82 180]\n",
      "144\n",
      "255.0\n",
      "0.0\n",
      "feature gen: 39000\n",
      "[161  61   5  98  71   8  31  83  72  13   4  37 124   8  53 195]\n",
      "144\n",
      "255.0\n",
      "0.0\n",
      "feature gen: 40000\n",
      "[183 184   4  77  28   4  17  75  49  13   1  12  88  10 102 177]\n",
      "144\n",
      "255.0\n",
      "0.0\n",
      "feature gen: 41000\n",
      "[192 138   6  46  19   6  17  56  40  17   0  15  75  16 108 273]\n",
      "144\n",
      "255.0\n",
      "0.0\n",
      "feature gen: 42000\n",
      "[163 151   3  42  34  13  23  61  16  10   1  15  58  14 105 315]\n",
      "144\n",
      "255.0\n",
      "0.0\n",
      "feature gen: 43000\n",
      "[183 107   5  76  20   8  19 133  76  10   4  21 106  10  71 175]\n",
      "144\n",
      "255.0\n",
      "0.0\n",
      "feature gen: 44000\n",
      "[212 132   2  80  42   7  12 107  50  12   0  20 103  13  59 173]\n",
      "144\n",
      "255.0\n",
      "0.0\n",
      "feature gen: 45000\n",
      "[193 111  13 105  43   8  26 105  44  17   3  26  63   8  70 189]\n",
      "144\n",
      "255.0\n",
      "0.0\n",
      "feature gen: 46000\n",
      "[198 116   6  74  28   5  21  78  74  13   0  18  86  10 122 175]\n",
      "144\n",
      "255.0\n",
      "0.0\n",
      "feature gen: 47000\n",
      "[236 256   0  26  18   2  11  29  37  10   1   2  53  12 105 226]\n",
      "144\n",
      "255.0\n",
      "0.0\n",
      "feature gen: 48000\n",
      "[223 157   5  60  37   1  17  69  54  12   2  18  65   8 114 182]\n",
      "144\n",
      "255.0\n",
      "0.0\n",
      "feature gen: 49000\n",
      "[223 113   2  55  26   2  21  74  60  12   4  14  84   6 110 218]\n",
      "144\n",
      "255.0\n",
      "0.0\n"
     ]
    }
   ],
   "source": [
    "# set iterator as 0\n",
    "\n",
    "for ii in range(50000):\n",
    "    # Load a batch data\n",
    "    batch_image, batch_label = get_batch(1, x_train, y_train)\n",
    "    \n",
    "    images = batch_image.reshape(32,32,3) * 255\n",
    "    images = images.astype('uint8')\n",
    "    \n",
    "    gray = cv2.cvtColor(images, cv2.COLOR_BGR2GRAY)\n",
    "\n",
    "    fd = feature.hog(gray, orientations=9, pixels_per_cell=(8, 8), \n",
    "             cells_per_block=(4, 4))\n",
    "    \n",
    "    hist, lbp = desc.describe(gray)\n",
    "    if ii % 1000 == 0:\n",
    "        print(\"feature gen: %d\" % ii)\n",
    "        print(hist)\n",
    "        print(len(fd))\n",
    "        print(lbp.max())\n",
    "        print(lbp.min())\n",
    "    train_labels.append(batch_label[0])\n",
    "    train_lbp.append(hist)\n",
    "    train_hog.append(fd)"
   ]
  },
  {
   "cell_type": "markdown",
   "metadata": {},
   "source": [
    "### Random Forest Classifier 선언\n",
    "scikit-learn library에 정의된 RandomForestClassifier()를 이용하여 선언\n",
    "\n",
    "link: *http://scikit-learn.org/stable/modules/generated/sklearn.ensemble.RandomForestClassifier.html#sklearn.ensemble.RandomForestClassifier*\n",
    "\n",
    "\n",
    "- n_estimaters: number of trees\n",
    "- criterion: gini / entropy (impurity 계산 방식)\n",
    "- max_features: number of features to consider\n",
    "- max_depth\n",
    "- max_samples_split: number of children nodes\n"
   ]
  },
  {
   "cell_type": "code",
   "execution_count": 7,
   "metadata": {},
   "outputs": [
    {
     "name": "stderr",
     "output_type": "stream",
     "text": [
      "/home/pirl/anaconda3/envs/edu/lib/python3.6/site-packages/sklearn/ensemble/forest.py:245: FutureWarning: The default value of n_estimators will change from 10 in version 0.20 to 100 in 0.22.\n",
      "  \"10 in version 0.20 to 100 in 0.22.\", FutureWarning)\n"
     ]
    },
    {
     "data": {
      "text/plain": [
       "RandomForestClassifier(bootstrap=True, class_weight=None, criterion='gini',\n",
       "                       max_depth=None, max_features='auto', max_leaf_nodes=None,\n",
       "                       min_impurity_decrease=0.0, min_impurity_split=None,\n",
       "                       min_samples_leaf=1, min_samples_split=2,\n",
       "                       min_weight_fraction_leaf=0.0, n_estimators=10,\n",
       "                       n_jobs=None, oob_score=False, random_state=None,\n",
       "                       verbose=0, warm_start=False)"
      ]
     },
     "execution_count": 7,
     "metadata": {},
     "output_type": "execute_result"
    }
   ],
   "source": [
    "# Create a random forest Classifier. By convention, clf means 'Classifier'\n",
    "clf = RandomForestClassifier()\n",
    "\n",
    "# Train the Classifier to take the training features and learn how they relate\n",
    "# to the training y (the species)\n",
    "clf.fit(np.concatenate((train_lbp, train_hog), axis=1), train_labels)"
   ]
  },
  {
   "cell_type": "markdown",
   "metadata": {},
   "source": [
    "Testset data에서 추출한 lbp, hog feature와 ground truth label 정보를 저장할 변수 선언"
   ]
  },
  {
   "cell_type": "code",
   "execution_count": 8,
   "metadata": {},
   "outputs": [
    {
     "data": {
      "text/plain": [
       "(32, 32, 3)"
      ]
     },
     "execution_count": 8,
     "metadata": {},
     "output_type": "execute_result"
    }
   ],
   "source": [
    "batch_image[0].shape"
   ]
  },
  {
   "cell_type": "code",
   "execution_count": 9,
   "metadata": {
    "scrolled": true
   },
   "outputs": [
    {
     "name": "stderr",
     "output_type": "stream",
     "text": [
      "/home/pirl/anaconda3/envs/edu/lib/python3.6/site-packages/skimage/feature/_hog.py:150: skimage_deprecation: Default value of `block_norm`==`L1` is deprecated and will be changed to `L2-Hys` in v0.15. To supress this message specify explicitly the normalization method.\n",
      "  skimage_deprecation)\n"
     ]
    },
    {
     "name": "stdout",
     "output_type": "stream",
     "text": [
      "feature gen: 0\n",
      "[142  78   4  34  23   9  13 100  56  16   5   8  67  23  72 374]\n",
      "144\n",
      "255.0\n",
      "0.0\n",
      "feature gen: 1000\n",
      "[214 118  10  52  31  11  27  90  59  16   4  16  81  12  85 198]\n",
      "144\n",
      "255.0\n",
      "0.0\n",
      "feature gen: 2000\n",
      "[226  69   7  64  52   5  18  86 100  23   9  33  96  13  49 174]\n",
      "144\n",
      "255.0\n",
      "0.0\n",
      "feature gen: 3000\n",
      "[210 120   5  53  34   6  21  81  78  12   5  18  90  18 111 162]\n",
      "144\n",
      "255.0\n",
      "0.0\n",
      "feature gen: 4000\n",
      "[110 160   5  35  13   4  15  72  23  12   2   3  57   8 120 385]\n",
      "144\n",
      "255.0\n",
      "0.0\n",
      "feature gen: 5000\n",
      "[258 148   3  91  38  15  10  54  62  25   5  25  71  10  66 143]\n",
      "144\n",
      "255.0\n",
      "0.0\n",
      "feature gen: 6000\n",
      "[176 137   4  49  26   3  27  80  40  12   3  17  86  10 128 226]\n",
      "144\n",
      "255.0\n",
      "0.0\n",
      "feature gen: 7000\n",
      "[198 163   3  61  40   0  14  69  42  10   3  26  72   8 135 180]\n",
      "144\n",
      "255.0\n",
      "0.0\n",
      "feature gen: 8000\n",
      "[213  93   9  95  43   8  15  68  69  21   6  31 106   4  58 185]\n",
      "144\n",
      "255.0\n",
      "0.0\n",
      "feature gen: 9000\n",
      "[186 102   6  47  40   2  21  66  55  20   4  36 134  10  99 196]\n",
      "144\n",
      "255.0\n",
      "0.0\n"
     ]
    }
   ],
   "source": [
    "test_lbp = []\n",
    "test_hog = []\n",
    "test_labels = []\n",
    "\n",
    "for ii in range(10000):\n",
    "    # Load a batch data\n",
    "    batch_image, batch_label = get_batch(1, x_test, y_test)\n",
    "    \n",
    "    images = batch_image.reshape(32,32,3) * 255\n",
    "    images = images.astype('uint8')\n",
    "    \n",
    "    gray = cv2.cvtColor(images, cv2.COLOR_BGR2GRAY)\n",
    "\n",
    "    fd = feature.hog(gray, orientations=9, pixels_per_cell=(8, 8), \n",
    "             cells_per_block=(4, 4))\n",
    "    \n",
    "    hist, lbp = desc.describe(gray)\n",
    "    if ii % 1000 == 0:\n",
    "        print(\"feature gen: %d\" % ii)\n",
    "        print(hist)\n",
    "        print(len(fd))\n",
    "        print(lbp.max())\n",
    "        print(lbp.min())\n",
    "    test_labels.append(batch_label[0])\n",
    "    test_lbp.append(hist)\n",
    "    test_hog.append(fd)"
   ]
  },
  {
   "cell_type": "markdown",
   "metadata": {},
   "source": [
    "생성된 Random Forest Classifier에 testset의 feature vectors를 이용하여 classification을 진행한다."
   ]
  },
  {
   "cell_type": "code",
   "execution_count": 89,
   "metadata": {
    "scrolled": true
   },
   "outputs": [
    {
     "name": "stdout",
     "output_type": "stream",
     "text": [
      "10000\n",
      "10000\n"
     ]
    }
   ],
   "source": [
    "# Apply the Classifier we trained to the test data (which, remember, it has never seen before)\n",
    "pred_labels = []\n",
    "\n",
    "pred_labels = clf.predict(np.concatenate((test_lbp, test_hog), axis=1))\n",
    "\n",
    "print(len(pred_labels))\n",
    "print(len(test_labels))\n",
    "\n",
    "test_labels = [ int(x) for x in test_labels ]"
   ]
  },
  {
   "cell_type": "markdown",
   "metadata": {},
   "source": [
    "ground truth label과 predicted label를 이용하여 confusion matrix를 생성한다."
   ]
  },
  {
   "cell_type": "code",
   "execution_count": 90,
   "metadata": {
    "scrolled": false
   },
   "outputs": [
    {
     "data": {
      "text/plain": [
       "array([[496,  49,  60,  50,  42,  42,  19,  36, 150,  47],\n",
       "       [100, 464,  41,  42,  58,  18,  36,  47,  94,  79],\n",
       "       [163,  64, 218, 191, 118,  86,  78,  54,  49,  16],\n",
       "       [ 77,  75, 156, 239, 105, 165,  83,  73,  21,  43],\n",
       "       [ 48,  63, 152, 104, 254,  68, 136,  69,  25,  30],\n",
       "       [ 45,  63, 154, 182, 108, 275,  49,  84,   6,  16],\n",
       "       [ 50,  83, 105, 107, 129,  73, 396,  37,  23,  36],\n",
       "       [ 74,  80,  94, 114, 120, 108,  52, 256,  27,  52],\n",
       "       [232, 144,  63,  36,  22,  10,   9,  26, 417,  59],\n",
       "       [ 83, 207,  63,  83,  59,  48,  26,  68,  90, 264]], dtype=int64)"
      ]
     },
     "execution_count": 90,
     "metadata": {},
     "output_type": "execute_result"
    }
   ],
   "source": [
    "# Create confusion matrix\n",
    "confusion_matrix(test_labels, pred_labels)"
   ]
  },
  {
   "cell_type": "markdown",
   "metadata": {},
   "source": [
    "accuracy를 측정한다.\n",
    "\n",
    "- true positive (TP): number of hit\n",
    "- true negative (TN): number of correct rejection\n",
    "- false positive (FP): number of false hit\n",
    "- false negative (FN): number of false miss\n",
    "\n",
    "\n",
    "- precision: TP / (TP + FP)\n",
    "- recall: TP / (TP + FN)\n",
    "- f1-score (harmonic mean of precision and recall): 1/precision + 1/recall"
   ]
  },
  {
   "cell_type": "code",
   "execution_count": 91,
   "metadata": {},
   "outputs": [
    {
     "name": "stdout",
     "output_type": "stream",
     "text": [
      "              precision    recall  f1-score   support\n",
      "\n",
      "           0       0.36      0.50      0.42       991\n",
      "           1       0.36      0.47      0.41       979\n",
      "           2       0.20      0.21      0.20      1037\n",
      "           3       0.21      0.23      0.22      1037\n",
      "           4       0.25      0.27      0.26       949\n",
      "           5       0.31      0.28      0.29       982\n",
      "           6       0.45      0.38      0.41      1039\n",
      "           7       0.34      0.26      0.30       977\n",
      "           8       0.46      0.41      0.43      1018\n",
      "           9       0.41      0.27      0.32       991\n",
      "\n",
      "   micro avg       0.33      0.33      0.33     10000\n",
      "   macro avg       0.33      0.33      0.33     10000\n",
      "weighted avg       0.33      0.33      0.33     10000\n",
      "\n"
     ]
    }
   ],
   "source": [
    "print(classification_report(test_labels, pred_labels))"
   ]
  }
 ],
 "metadata": {
  "kernelspec": {
   "display_name": "Python 3",
   "language": "python",
   "name": "python3"
  },
  "language_info": {
   "codemirror_mode": {
    "name": "ipython",
    "version": 3
   },
   "file_extension": ".py",
   "mimetype": "text/x-python",
   "name": "python",
   "nbconvert_exporter": "python",
   "pygments_lexer": "ipython3",
   "version": "3.6.9"
  }
 },
 "nbformat": 4,
 "nbformat_minor": 2
}
