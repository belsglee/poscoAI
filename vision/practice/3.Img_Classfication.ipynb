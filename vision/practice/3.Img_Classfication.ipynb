{
 "cells": [
  {
   "cell_type": "markdown",
   "metadata": {},
   "source": [
    "## Classification with Fashion-MNIST in tf.keras\n",
    "\n",
    "#### Fasion-MNIST\n",
    "10개의 label로 이루어진 의류 이미지 데이터"
   ]
  },
  {
   "cell_type": "markdown",
   "metadata": {},
   "source": [
    "### Import the fashion_mnist dataset"
   ]
  },
  {
   "cell_type": "code",
   "execution_count": 1,
   "metadata": {},
   "outputs": [],
   "source": [
    "#!pip install -q -U tensorflow-gpu=1.12.0\n",
    "\n",
    "import tensorflow as tf\n",
    "\n",
    "import random\n",
    "import numpy as np\n",
    "import matplotlib.pyplot as plt"
   ]
  },
  {
   "cell_type": "code",
   "execution_count": 2,
   "metadata": {},
   "outputs": [
    {
     "name": "stdout",
     "output_type": "stream",
     "text": [
      "Downloading data from https://storage.googleapis.com/tensorflow/tf-keras-datasets/train-labels-idx1-ubyte.gz\n",
      "32768/29515 [=================================] - 0s 2us/step\n",
      "Downloading data from https://storage.googleapis.com/tensorflow/tf-keras-datasets/train-images-idx3-ubyte.gz\n",
      "26427392/26421880 [==============================] - 2s 0us/step\n",
      "Downloading data from https://storage.googleapis.com/tensorflow/tf-keras-datasets/t10k-labels-idx1-ubyte.gz\n",
      "8192/5148 [===============================================] - 0s 0us/step\n",
      "Downloading data from https://storage.googleapis.com/tensorflow/tf-keras-datasets/t10k-images-idx3-ubyte.gz\n",
      "4423680/4422102 [==============================] - 0s 0us/step\n",
      "x_train shape :  (60000, 28, 28) y_train shape :  (60000,)\n"
     ]
    }
   ],
   "source": [
    "(x_train, y_train), (x_test, y_test) = tf.keras.datasets.fashion_mnist.load_data()\n",
    "\n",
    "# x : image, y : label \n",
    "# train : 60000, test : 10000\n",
    "print(\"x_train shape : \", x_train.shape, \"y_train shape : \", y_train.shape)"
   ]
  },
  {
   "cell_type": "markdown",
   "metadata": {},
   "source": [
    "\n",
    "</br>\n",
    "\n",
    "### Data Visualize"
   ]
  },
  {
   "cell_type": "code",
   "execution_count": 3,
   "metadata": {},
   "outputs": [
    {
     "name": "stdout",
     "output_type": "stream",
     "text": [
      "y= 5 | Sandal\n"
     ]
    },
    {
     "data": {
      "text/plain": [
       "<matplotlib.image.AxesImage at 0x7f3dbfe82978>"
      ]
     },
     "execution_count": 3,
     "metadata": {},
     "output_type": "execute_result"
    },
    {
     "data": {
      "image/png": "[encoded data removed]",
      "text/plain": [
       "<Figure size 432x288 with 1 Axes>"
      ]
     },
     "metadata": {
      "needs_background": "light"
     },
     "output_type": "display_data"
    }
   ],
   "source": [
    "# label definition\n",
    "fashion_mnist_labels = ['T-shirt/top',\n",
    "                        'Trouser',\n",
    "                        'Pullover',\n",
    "                        'Dress',\n",
    "                        'Coat',\n",
    "                        'Sandal',\n",
    "                        'Shirt',\n",
    "                        'Sneaker',\n",
    "                        'Bag',\n",
    "                        'Ankle_boot']\n",
    "\n",
    "\n",
    "# one random image from x_train\n",
    "img_index = random.randint(1,x_train.shape[0])\n",
    "\n",
    "# label idx\n",
    "label_index = y_train[img_index]\n",
    "\n",
    "# showing\n",
    "print(\"y=\", str(label_index), \"|\", fashion_mnist_labels[label_index])\n",
    "plt.imshow(x_train[img_index])"
   ]
  },
  {
   "cell_type": "markdown",
   "metadata": {},
   "source": [
    "\n",
    "\n",
    "</br>\n",
    "\n",
    "### Data Normalization\n"
   ]
  },
  {
   "cell_type": "code",
   "execution_count": 4,
   "metadata": {},
   "outputs": [],
   "source": [
    "# fitting data in similar scale\n",
    "x_train = x_train.astype('float32') / 255\n",
    "x_test = x_test.astype('float32') / 255"
   ]
  },
  {
   "cell_type": "code",
   "execution_count": 5,
   "metadata": {},
   "outputs": [
    {
     "name": "stdout",
     "output_type": "stream",
     "text": [
      "Number of train data :  60000\n",
      "Number of test data :  10000\n"
     ]
    }
   ],
   "source": [
    "print(\"Number of train data : \", len(x_train))\n",
    "print(\"Number of test data : \", len(x_test))"
   ]
  },
  {
   "cell_type": "markdown",
   "metadata": {},
   "source": [
    "\n",
    "\n",
    "</br>\n",
    "\n",
    "### Split data into Train/Validation/Test data sets\n",
    "train data : data for training model </br>\n",
    "\n",
    "validation data : data for hyperparameter tuning and validation </br>\n",
    "\n",
    "test data : after all validation and training, at the last test "
   ]
  },
  {
   "cell_type": "code",
   "execution_count": 6,
   "metadata": {},
   "outputs": [
    {
     "name": "stdout",
     "output_type": "stream",
     "text": [
      "x_train shape:  (55000, 28, 28, 1)\n",
      "y_train shape:  (55000, 10)\n",
      "55000 train set\n",
      "5000 validation set\n",
      "10000 test set\n"
     ]
    }
   ],
   "source": [
    "# split train | validation\n",
    "(x_train, x_valid) = x_train[5000:], x_train[:5000]\n",
    "(y_train, y_valid) = y_train[5000:], y_train[:5000]\n",
    "\n",
    "# Image reshape (28,28) --> (28,28,1)\n",
    "w, h = 28, 28 # width, height\n",
    "\n",
    "x_train = x_train.reshape(x_train.shape[0], w, h, 1)\n",
    "x_valid = x_valid.reshape(x_valid.shape[0], w, h, 1)\n",
    "x_test = x_test.reshape(x_test.shape[0], w, h, 1)\n",
    "\n",
    "# one-hot encoding in label\n",
    "# only one dimension get value 1 and other dimension value 0 \n",
    "y_train = tf.keras.utils.to_categorical(y_train, 10)\n",
    "y_valid = tf.keras.utils.to_categorical(y_valid, 10)\n",
    "y_test = tf.keras.utils.to_categorical(y_test, 10)\n",
    "\n",
    "print(\"x_train shape: \", x_train.shape )\n",
    "print(\"y_train shape: \", y_train.shape )\n",
    "\n",
    "print(x_train.shape[0], 'train set')\n",
    "print(x_valid.shape[0], 'validation set')\n",
    "print(x_test.shape[0], 'test set')"
   ]
  },
  {
   "cell_type": "markdown",
   "metadata": {},
   "source": [
    "\n",
    "</br>\n",
    "\n",
    "\n",
    "### Modeling \n",
    "Conv2D() </br>\n",
    "Pooling() </br>\n",
    "Dropout() </br>"
   ]
  },
  {
   "cell_type": "code",
   "execution_count": 7,
   "metadata": {},
   "outputs": [
    {
     "name": "stdout",
     "output_type": "stream",
     "text": [
      "_________________________________________________________________\n",
      "Layer (type)                 Output Shape              Param #   \n",
      "=================================================================\n",
      "conv2d (Conv2D)              (None, 28, 28, 64)        320       \n",
      "_________________________________________________________________\n",
      "max_pooling2d (MaxPooling2D) (None, 14, 14, 64)        0         \n",
      "_________________________________________________________________\n",
      "dropout (Dropout)            (None, 14, 14, 64)        0         \n",
      "_________________________________________________________________\n",
      "conv2d_1 (Conv2D)            (None, 14, 14, 32)        8224      \n",
      "_________________________________________________________________\n",
      "max_pooling2d_1 (MaxPooling2 (None, 7, 7, 32)          0         \n",
      "_________________________________________________________________\n",
      "dropout_1 (Dropout)          (None, 7, 7, 32)          0         \n",
      "_________________________________________________________________\n",
      "flatten (Flatten)            (None, 1568)              0         \n",
      "_________________________________________________________________\n",
      "dense (Dense)                (None, 256)               401664    \n",
      "_________________________________________________________________\n",
      "dropout_2 (Dropout)          (None, 256)               0         \n",
      "_________________________________________________________________\n",
      "dense_1 (Dense)              (None, 10)                2570      \n",
      "=================================================================\n",
      "Total params: 412,778\n",
      "Trainable params: 412,778\n",
      "Non-trainable params: 0\n",
      "_________________________________________________________________\n"
     ]
    }
   ],
   "source": [
    "model = tf.keras.Sequential()\n",
    "\n",
    "model.add(tf.keras.layers.Conv2D(filters=64, kernel_size=2, padding='same', activation='relu', input_shape=(28,28,1)))\n",
    "model.add(tf.keras.layers.MaxPooling2D(pool_size=2))\n",
    "model.add(tf.keras.layers.Dropout(0.3))\n",
    "\n",
    "model.add(tf.keras.layers.Conv2D(filters=32, kernel_size=2, padding='same', activation='relu'))\n",
    "model.add(tf.keras.layers.MaxPooling2D(pool_size=2))\n",
    "model.add(tf.keras.layers.Dropout(0.3))\n",
    "\n",
    "model.add(tf.keras.layers.Flatten())\n",
    "model.add(tf.keras.layers.Dense(256, activation='relu'))\n",
    "model.add(tf.keras.layers.Dropout(0.5))\n",
    "model.add(tf.keras.layers.Dense(10, activation='softmax'))\n",
    "\n",
    "model.summary()"
   ]
  },
  {
   "cell_type": "markdown",
   "metadata": {},
   "source": [
    "\n",
    "</br>\n",
    "\n",
    "### Model Compile\n",
    "학습 프로세스 구성</br>\n",
    "optimizer, loss function, metrics "
   ]
  },
  {
   "cell_type": "code",
   "execution_count": 8,
   "metadata": {},
   "outputs": [],
   "source": [
    "model.compile(loss='categorical_crossentropy',\n",
    "              optimizer = 'adam',\n",
    "              metrics = ['accuracy']) # 평가 기준 "
   ]
  },
  {
   "cell_type": "markdown",
   "metadata": {},
   "source": [
    "\n",
    "\n",
    "</br>\n",
    "\n",
    "### Model Training\n",
    "ModelCheckpoint API로 epoch마다 모델 저장 "
   ]
  },
  {
   "cell_type": "code",
   "execution_count": 9,
   "metadata": {},
   "outputs": [
    {
     "name": "stdout",
     "output_type": "stream",
     "text": [
      "Train on 55000 samples, validate on 5000 samples\n",
      "Epoch 1/10\n",
      "54912/55000 [============================>.] - ETA: 0s - loss: 0.6213 - acc: 0.7712\n",
      "Epoch 00001: val_loss improved from inf to 0.38359, saving model to model.weights.best.hdf5\n",
      "55000/55000 [==============================] - 35s 637us/step - loss: 0.6210 - acc: 0.7714 - val_loss: 0.3836 - val_acc: 0.8646\n",
      "Epoch 2/10\n",
      "54912/55000 [============================>.] - ETA: 0s - loss: 0.4201 - acc: 0.8466\n",
      "Epoch 00002: val_loss improved from 0.38359 to 0.32603, saving model to model.weights.best.hdf5\n",
      "55000/55000 [==============================] - 34s 616us/step - loss: 0.4203 - acc: 0.8466 - val_loss: 0.3260 - val_acc: 0.8822\n",
      "Epoch 3/10\n",
      "54976/55000 [============================>.] - ETA: 0s - loss: 0.3801 - acc: 0.8606\n",
      "Epoch 00003: val_loss improved from 0.32603 to 0.29405, saving model to model.weights.best.hdf5\n",
      "55000/55000 [==============================] - 35s 643us/step - loss: 0.3801 - acc: 0.8606 - val_loss: 0.2941 - val_acc: 0.8930\n",
      "Epoch 4/10\n",
      "54912/55000 [============================>.] - ETA: 0s - loss: 0.3466 - acc: 0.8739\n",
      "Epoch 00004: val_loss improved from 0.29405 to 0.28969, saving model to model.weights.best.hdf5\n",
      "55000/55000 [==============================] - 34s 618us/step - loss: 0.3465 - acc: 0.8740 - val_loss: 0.2897 - val_acc: 0.8954\n",
      "Epoch 5/10\n",
      "54976/55000 [============================>.] - ETA: 0s - loss: 0.3278 - acc: 0.8811\n",
      "Epoch 00005: val_loss improved from 0.28969 to 0.25941, saving model to model.weights.best.hdf5\n",
      "55000/55000 [==============================] - 35s 631us/step - loss: 0.3278 - acc: 0.8811 - val_loss: 0.2594 - val_acc: 0.9070\n",
      "Epoch 6/10\n",
      "54976/55000 [============================>.] - ETA: 0s - loss: 0.3118 - acc: 0.8859\n",
      "Epoch 00006: val_loss did not improve from 0.25941\n",
      "55000/55000 [==============================] - 35s 636us/step - loss: 0.3117 - acc: 0.8859 - val_loss: 0.2621 - val_acc: 0.9024\n",
      "Epoch 7/10\n",
      "54912/55000 [============================>.] - ETA: 0s - loss: 0.2989 - acc: 0.8897\n",
      "Epoch 00007: val_loss improved from 0.25941 to 0.23647, saving model to model.weights.best.hdf5\n",
      "55000/55000 [==============================] - 34s 611us/step - loss: 0.2987 - acc: 0.8897 - val_loss: 0.2365 - val_acc: 0.9142\n",
      "Epoch 8/10\n",
      "54976/55000 [============================>.] - ETA: 0s - loss: 0.2865 - acc: 0.8939\n",
      "Epoch 00008: val_loss improved from 0.23647 to 0.23201, saving model to model.weights.best.hdf5\n",
      "55000/55000 [==============================] - 34s 611us/step - loss: 0.2866 - acc: 0.8939 - val_loss: 0.2320 - val_acc: 0.9150\n",
      "Epoch 9/10\n",
      "54976/55000 [============================>.] - ETA: 0s - loss: 0.2777 - acc: 0.8984\n",
      "Epoch 00009: val_loss improved from 0.23201 to 0.23113, saving model to model.weights.best.hdf5\n",
      "55000/55000 [==============================] - 34s 610us/step - loss: 0.2779 - acc: 0.8983 - val_loss: 0.2311 - val_acc: 0.9132\n",
      "Epoch 10/10\n",
      "54912/55000 [============================>.] - ETA: 0s - loss: 0.2685 - acc: 0.9000\n",
      "Epoch 00010: val_loss improved from 0.23113 to 0.22497, saving model to model.weights.best.hdf5\n",
      "55000/55000 [==============================] - 34s 612us/step - loss: 0.2685 - acc: 0.9000 - val_loss: 0.2250 - val_acc: 0.9164\n"
     ]
    },
    {
     "data": {
      "text/plain": [
       "<tensorflow.python.keras.callbacks.History at 0x7f3dc0cf0dd8>"
      ]
     },
     "execution_count": 9,
     "metadata": {},
     "output_type": "execute_result"
    }
   ],
   "source": [
    "from tensorflow.keras.callbacks import ModelCheckpoint\n",
    "\n",
    "\n",
    "checkpointer = ModelCheckpoint(filepath = 'model.weights.best.hdf5', verbose = 1, save_best_only=True) # verbose 1 : seeing progress \n",
    "\n",
    "model.fit(x_train,\n",
    "          y_train,\n",
    "          batch_size=64,\n",
    "          epochs=10,\n",
    "          validation_data=(x_valid,y_valid),\n",
    "          callbacks = [checkpointer])"
   ]
  },
  {
   "cell_type": "markdown",
   "metadata": {},
   "source": [
    "### Model Test"
   ]
  },
  {
   "cell_type": "code",
   "execution_count": 10,
   "metadata": {},
   "outputs": [
    {
     "name": "stdout",
     "output_type": "stream",
     "text": [
      "Test Accuracy:  0.9085\n"
     ]
    }
   ],
   "source": [
    "# get the best valid weight\n",
    "model.load_weights('model.weights.best.hdf5') \n",
    "\n",
    "\n",
    "# Test Accuracy\n",
    "score = model.evaluate(x_test, y_test, verbose=0)\n",
    "\n",
    "print(\"Test Accuracy: \", score[1])  # [0] : test loss, [1] : accuracy"
   ]
  },
  {
   "cell_type": "markdown",
   "metadata": {},
   "source": [
    "\n",
    "\n",
    "</br>\n",
    "\n",
    "### Visualize Prediction"
   ]
  },
  {
   "cell_type": "code",
   "execution_count": 11,
   "metadata": {},
   "outputs": [
    {
     "data": {
      "image/png": "[encoded data removed]",
      "text/plain": [
       "<Figure size 1440x576 with 15 Axes>"
      ]
     },
     "metadata": {},
     "output_type": "display_data"
    }
   ],
   "source": [
    "y_hat = model.predict(x_test)\n",
    "\n",
    "figure = plt.figure(figsize=(20,8))\n",
    "\n",
    "for i, index in enumerate(np.random.choice(x_test.shape[0], size=15, replace=False)):\n",
    "    axis = figure.add_subplot(3,5, i+1, xticks=[], yticks=[])\n",
    "    axis.imshow(np.squeeze(x_test[index]))\n",
    "    predict_index = np.argmax(y_hat[index])\n",
    "    true_index = np.argmax(y_test[index])\n",
    "    \n",
    "    axis.set_title(\"{} ({})\".format(fashion_mnist_labels[predict_index],\n",
    "                                   fashion_mnist_labels[true_index]),\n",
    "                                   color = (\"green\" if predict_index == true_index else \"red\"))"
   ]
  },
  {
   "cell_type": "code",
   "execution_count": null,
   "metadata": {},
   "outputs": [],
   "source": []
  }
 ],
 "metadata": {
  "kernelspec": {
   "display_name": "Python 3",
   "language": "python",
   "name": "python3"
  },
  "language_info": {
   "codemirror_mode": {
    "name": "ipython",
    "version": 3
   },
   "file_extension": ".py",
   "mimetype": "text/x-python",
   "name": "python",
   "nbconvert_exporter": "python",
   "pygments_lexer": "ipython3",
   "version": "3.6.9"
  }
 },
 "nbformat": 4,
 "nbformat_minor": 2
}
