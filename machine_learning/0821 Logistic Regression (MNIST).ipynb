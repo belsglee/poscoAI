{
 "cells": [
  {
   "cell_type": "markdown",
   "metadata": {},
   "source": [
    "# Logistic Regression (MNIST)"
   ]
  },
  {
   "cell_type": "markdown",
   "metadata": {},
   "source": [
    "## library"
   ]
  },
  {
   "cell_type": "code",
   "execution_count": 2,
   "metadata": {},
   "outputs": [],
   "source": [
    "import tensorflow as tf\n",
    "import numpy as np\n",
    "from matplotlib import pyplot as plt\n",
    "\n",
    "from tensorflow.keras.datasets import mnist"
   ]
  },
  {
   "cell_type": "markdown",
   "metadata": {},
   "source": [
    "## load data"
   ]
  },
  {
   "cell_type": "code",
   "execution_count": 4,
   "metadata": {},
   "outputs": [
    {
     "name": "stdout",
     "output_type": "stream",
     "text": [
      "Downloading data from https://storage.googleapis.com/tensorflow/tf-keras-datasets/mnist.npz\n",
      "11493376/11490434 [==============================] - 1s 0us/step\n",
      "type(data):  <class 'tuple'>\n",
      "len(data):  2\n"
     ]
    }
   ],
   "source": [
    "# load data\n",
    "data = mnist.load_data()\n",
    "# data\n",
    "print('type(data): ', type(data))\n",
    "print('len(data): ', len(data))"
   ]
  },
  {
   "cell_type": "markdown",
   "metadata": {},
   "source": [
    "## X, y split"
   ]
  },
  {
   "cell_type": "code",
   "execution_count": 6,
   "metadata": {},
   "outputs": [],
   "source": [
    "train_data, test_data = data"
   ]
  },
  {
   "cell_type": "code",
   "execution_count": 8,
   "metadata": {},
   "outputs": [
    {
     "name": "stdout",
     "output_type": "stream",
     "text": [
      "x_train.shape, y_train.shape\n",
      "(60000, 28, 28) (60000,)\n",
      "x_test.shape, y_test.shape\n",
      "(10000, 28, 28) (10000,)\n"
     ]
    }
   ],
   "source": [
    "# train data X, y split\n",
    "x_train, y_train = train_data\n",
    "print('x_train.shape, y_train.shape')\n",
    "print(x_train.shape, y_train.shape)\n",
    "\n",
    "# train data X, y split\n",
    "x_test, y_test = test_data\n",
    "print('x_test.shape, y_test.shape')\n",
    "print(x_test.shape, y_test.shape)\n"
   ]
  },
  {
   "cell_type": "code",
   "execution_count": 9,
   "metadata": {},
   "outputs": [
    {
     "data": {
      "image/png": "[encoded data removed]",
      "text/plain": [
       "<Figure size 432x288 with 1 Axes>"
      ]
     },
     "metadata": {
      "needs_background": "light"
     },
     "output_type": "display_data"
    },
    {
     "name": "stdout",
     "output_type": "stream",
     "text": [
      "y_train:  [5 0 4 ... 5 6 8]\n",
      "x_train:  [[  0   0   0   0   0   0   0   0   0   0   0   0   0   0   0   0   0   0\n",
      "    0   0   0   0   0   0   0   0   0   0]\n",
      " [  0   0   0   0   0   0   0   0   0   0   0   0   0   0   0   0   0   0\n",
      "    0   0   0   0   0   0   0   0   0   0]\n",
      " [  0   0   0   0   0   0   0   0   0   0   0   0   0   0   0   0   0   0\n",
      "    0   0   0   0   0   0   0   0   0   0]\n",
      " [  0   0   0   0   0   0   0   0   0   0   0   0   0   0   0   0   0   0\n",
      "    0   0   0   0   0   0   0   0   0   0]\n",
      " [  0   0   0   0   0   0   0   0   0   0   0   0   0   0   0   0   0   0\n",
      "    0   0   0   0   0   0   0   0   0   0]\n",
      " [  0   0   0   0   0   0   0   0   0   0   0   0   3  18  18  18 126 136\n",
      "  175  26 166 255 247 127   0   0   0   0]\n",
      " [  0   0   0   0   0   0   0   0  30  36  94 154 170 253 253 253 253 253\n",
      "  225 172 253 242 195  64   0   0   0   0]\n",
      " [  0   0   0   0   0   0   0  49 238 253 253 253 253 253 253 253 253 251\n",
      "   93  82  82  56  39   0   0   0   0   0]\n",
      " [  0   0   0   0   0   0   0  18 219 253 253 253 253 253 198 182 247 241\n",
      "    0   0   0   0   0   0   0   0   0   0]\n",
      " [  0   0   0   0   0   0   0   0  80 156 107 253 253 205  11   0  43 154\n",
      "    0   0   0   0   0   0   0   0   0   0]\n",
      " [  0   0   0   0   0   0   0   0   0  14   1 154 253  90   0   0   0   0\n",
      "    0   0   0   0   0   0   0   0   0   0]\n",
      " [  0   0   0   0   0   0   0   0   0   0   0 139 253 190   2   0   0   0\n",
      "    0   0   0   0   0   0   0   0   0   0]\n",
      " [  0   0   0   0   0   0   0   0   0   0   0  11 190 253  70   0   0   0\n",
      "    0   0   0   0   0   0   0   0   0   0]\n",
      " [  0   0   0   0   0   0   0   0   0   0   0   0  35 241 225 160 108   1\n",
      "    0   0   0   0   0   0   0   0   0   0]\n",
      " [  0   0   0   0   0   0   0   0   0   0   0   0   0  81 240 253 253 119\n",
      "   25   0   0   0   0   0   0   0   0   0]\n",
      " [  0   0   0   0   0   0   0   0   0   0   0   0   0   0  45 186 253 253\n",
      "  150  27   0   0   0   0   0   0   0   0]\n",
      " [  0   0   0   0   0   0   0   0   0   0   0   0   0   0   0  16  93 252\n",
      "  253 187   0   0   0   0   0   0   0   0]\n",
      " [  0   0   0   0   0   0   0   0   0   0   0   0   0   0   0   0   0 249\n",
      "  253 249  64   0   0   0   0   0   0   0]\n",
      " [  0   0   0   0   0   0   0   0   0   0   0   0   0   0  46 130 183 253\n",
      "  253 207   2   0   0   0   0   0   0   0]\n",
      " [  0   0   0   0   0   0   0   0   0   0   0   0  39 148 229 253 253 253\n",
      "  250 182   0   0   0   0   0   0   0   0]\n",
      " [  0   0   0   0   0   0   0   0   0   0  24 114 221 253 253 253 253 201\n",
      "   78   0   0   0   0   0   0   0   0   0]\n",
      " [  0   0   0   0   0   0   0   0  23  66 213 253 253 253 253 198  81   2\n",
      "    0   0   0   0   0   0   0   0   0   0]\n",
      " [  0   0   0   0   0   0  18 171 219 253 253 253 253 195  80   9   0   0\n",
      "    0   0   0   0   0   0   0   0   0   0]\n",
      " [  0   0   0   0  55 172 226 253 253 253 253 244 133  11   0   0   0   0\n",
      "    0   0   0   0   0   0   0   0   0   0]\n",
      " [  0   0   0   0 136 253 253 253 212 135 132  16   0   0   0   0   0   0\n",
      "    0   0   0   0   0   0   0   0   0   0]\n",
      " [  0   0   0   0   0   0   0   0   0   0   0   0   0   0   0   0   0   0\n",
      "    0   0   0   0   0   0   0   0   0   0]\n",
      " [  0   0   0   0   0   0   0   0   0   0   0   0   0   0   0   0   0   0\n",
      "    0   0   0   0   0   0   0   0   0   0]\n",
      " [  0   0   0   0   0   0   0   0   0   0   0   0   0   0   0   0   0   0\n",
      "    0   0   0   0   0   0   0   0   0   0]]\n"
     ]
    }
   ],
   "source": [
    "plt.figure()\n",
    "plt.imshow(x_train[0], 'gray')\n",
    "plt.show()\n",
    "print('y_train: ', y_train)\n",
    "print('x_train: ', x_train[0])"
   ]
  },
  {
   "cell_type": "markdown",
   "metadata": {},
   "source": [
    "## data shape"
   ]
  },
  {
   "cell_type": "code",
   "execution_count": 10,
   "metadata": {},
   "outputs": [
    {
     "name": "stdout",
     "output_type": "stream",
     "text": [
      "shape:  (28, 28)\n"
     ]
    }
   ],
   "source": [
    "# data shape\n",
    "shape = x_train.shape[1:]\n",
    "print(\"shape: \", shape)"
   ]
  },
  {
   "cell_type": "markdown",
   "metadata": {},
   "source": [
    "## data reshape, normalize"
   ]
  },
  {
   "cell_type": "code",
   "execution_count": 12,
   "metadata": {},
   "outputs": [],
   "source": [
    "# data normalize\n",
    "\n",
    "reshaped_x_train = x_train.reshape(-1, 784)\n",
    "reshaped_x_test = x_test.reshape(-1, np.prod(shape))\n",
    "\n",
    "X_train = reshaped_x_train / 255\n",
    "X_test = reshaped_x_test / 255"
   ]
  },
  {
   "cell_type": "code",
   "execution_count": null,
   "metadata": {},
   "outputs": [],
   "source": []
  },
  {
   "cell_type": "markdown",
   "metadata": {},
   "source": [
    "## sparse label to one-hot label"
   ]
  },
  {
   "cell_type": "code",
   "execution_count": 15,
   "metadata": {},
   "outputs": [
    {
     "name": "stdout",
     "output_type": "stream",
     "text": [
      "10x10 identity matrix \n",
      " [[1. 0. 0. 0. 0. 0. 0. 0. 0. 0.]\n",
      " [0. 1. 0. 0. 0. 0. 0. 0. 0. 0.]\n",
      " [0. 0. 1. 0. 0. 0. 0. 0. 0. 0.]\n",
      " [0. 0. 0. 1. 0. 0. 0. 0. 0. 0.]\n",
      " [0. 0. 0. 0. 1. 0. 0. 0. 0. 0.]\n",
      " [0. 0. 0. 0. 0. 1. 0. 0. 0. 0.]\n",
      " [0. 0. 0. 0. 0. 0. 1. 0. 0. 0.]\n",
      " [0. 0. 0. 0. 0. 0. 0. 1. 0. 0.]\n",
      " [0. 0. 0. 0. 0. 0. 0. 0. 1. 0.]\n",
      " [0. 0. 0. 0. 0. 0. 0. 0. 0. 1.]]\n",
      "sparse lable:  [1 3 5 7 9]\n",
      "sparse label to one hot lable \n",
      " [[0. 1. 0. 0. 0. 0. 0. 0. 0. 0.]\n",
      " [0. 0. 0. 1. 0. 0. 0. 0. 0. 0.]\n",
      " [0. 0. 0. 0. 0. 1. 0. 0. 0. 0.]\n",
      " [0. 0. 0. 0. 0. 0. 0. 1. 0. 0.]\n",
      " [0. 0. 0. 0. 0. 0. 0. 0. 0. 1.]]\n"
     ]
    }
   ],
   "source": [
    "print('10x10 identity matrix \\n', np.eye(10))\n",
    "sparse_label = np.array([1,3,5,7,9])\n",
    "print('sparse lable: ', sparse_label)\n",
    "print('sparse label to one hot lable \\n', np.eye(10)[sparse_label])"
   ]
  },
  {
   "cell_type": "code",
   "execution_count": 20,
   "metadata": {},
   "outputs": [],
   "source": [
    "Y_train = np.eye(10)[y_train]\n",
    "Y_test = np.eye(10)[y_test]"
   ]
  },
  {
   "cell_type": "code",
   "execution_count": 26,
   "metadata": {},
   "outputs": [
    {
     "data": {
      "text/plain": [
       "array([[0., 0., 0., ..., 1., 0., 0.],\n",
       "       [0., 0., 1., ..., 0., 0., 0.],\n",
       "       [0., 1., 0., ..., 0., 0., 0.],\n",
       "       ...,\n",
       "       [0., 0., 0., ..., 0., 0., 0.],\n",
       "       [0., 0., 0., ..., 0., 0., 0.],\n",
       "       [0., 0., 0., ..., 0., 0., 0.]])"
      ]
     },
     "execution_count": 26,
     "metadata": {},
     "output_type": "execute_result"
    }
   ],
   "source": [
    "Y_test"
   ]
  },
  {
   "cell_type": "markdown",
   "metadata": {},
   "source": [
    "## data load, preprocess sum-up"
   ]
  },
  {
   "cell_type": "code",
   "execution_count": 16,
   "metadata": {},
   "outputs": [
    {
     "name": "stdout",
     "output_type": "stream",
     "text": [
      "image shape:  (60000, 28, 28) (10000, 28, 28)\n",
      "label shape:  (60000,) (10000,)\n"
     ]
    }
   ],
   "source": [
    "(x_train, y_train), (x_test, y_test) = mnist.load_data()\n",
    "# original image data (28, 28 per sample, unnormalized)\n",
    "# original image data (sparse encoding)\n",
    "\n",
    "\n",
    "print(\"image shape: \", x_train.shape, x_test.shape)\n",
    "print('label shape: ', y_train.shape, y_test.shape)"
   ]
  },
  {
   "cell_type": "markdown",
   "metadata": {},
   "source": [
    "## hypter paremeter setting"
   ]
  },
  {
   "cell_type": "code",
   "execution_count": 27,
   "metadata": {},
   "outputs": [],
   "source": [
    "# hyper parameter setting\n",
    "learning_rate = .1\n",
    "training_epochs = 100\n",
    "display_step = 5"
   ]
  },
  {
   "cell_type": "code",
   "execution_count": 19,
   "metadata": {},
   "outputs": [],
   "source": [
    "tf_X = tf.placeholder(tf.float32, [None, 784])\n",
    "tf_Y = tf.placeholder(tf.float32, [None, 10])\n",
    "W = tf.Variable(tf.zeros([784, 10]))\n",
    "b = tf.Variable(tf.zeros([10]))\n",
    "\n",
    "# variable shape direct setting\n",
    "\n",
    "pred = tf.nn.softmax(tf.matmul(tf_X, W) + b)\n",
    "\n",
    "# soft max > sum of all dimension = 1\n",
    "# each dimension, in this case, has 10 \n",
    "\n",
    "# cross entropy loss\n",
    "loss = tf.reduce_mean(-tf.reduce_sum(\n",
    "    tf_Y * tf.log(pred)\n",
    "    , axis = 1))\n",
    "\n",
    "optimizer = tf.train.GradientDescentOptimizer(learning_rate).minimize(loss)"
   ]
  },
  {
   "cell_type": "code",
   "execution_count": 30,
   "metadata": {},
   "outputs": [
    {
     "name": "stdout",
     "output_type": "stream",
     "text": [
      "Optimization Completed\n",
      "Accuracy:  0.8707\n"
     ]
    }
   ],
   "source": [
    "# trian\n",
    "\n",
    "init = tf.global_variables_initializer()\n",
    "\n",
    "sess = tf.Session()\n",
    "sess.run(init)\n",
    "\n",
    "for epoch in range(0, training_epochs):\n",
    "    sess.run(optimizer, feed_dict = {tf_X: X_train, tf_Y : Y_train})\n",
    "    \n",
    "print(\"Optimization Completed\")\n",
    "\n",
    "correct_predict = tf.equal(tf.argmax(pred, 1), tf.argmax(tf_Y, 1))\n",
    "# 실제 정답 (tf_Y << 원핫인코딩한거) 예측 정답 (pred <M 소프트맥스로 나온 벡터의 제일 큰 값의 인덱스) 를 비교..\n",
    "accuracy = tf.reduce_mean(tf.cast(correct_predict, tf.float32))\n",
    "accuracy_eval = sess.run(accuracy, feed_dict = {tf_X: X_test, tf_Y: Y_test})\n",
    "print(\"Accuracy: \", accuracy_eval)"
   ]
  },
  {
   "cell_type": "markdown",
   "metadata": {},
   "source": [
    "## confusion matrix"
   ]
  },
  {
   "cell_type": "code",
   "execution_count": 31,
   "metadata": {},
   "outputs": [
    {
     "data": {
      "text/plain": [
       "array([[ 946,    0,    3,    3,    0,    4,   15,    1,    8,    0],\n",
       "       [   0, 1089,    5,    3,    1,    4,    4,    0,   29,    0],\n",
       "       [  16,   19,  845,   26,   20,    0,   28,   22,   49,    7],\n",
       "       [   5,    2,   22,  880,    1,   32,    8,   20,   26,   14],\n",
       "       [   3,    8,    5,    0,  865,    1,   17,    2,   10,   71],\n",
       "       [  24,   15,    7,   74,   25,  650,   27,   11,   42,   17],\n",
       "       [  20,    5,   13,    2,   13,   20,  879,    0,    6,    0],\n",
       "       [   4,   38,   25,    1,   13,    0,    4,  889,   10,   44],\n",
       "       [  10,   16,   13,   40,   12,   22,   18,   14,  809,   20],\n",
       "       [  14,   13,   11,   12,   53,   11,    1,   28,   11,  855]])"
      ]
     },
     "execution_count": 31,
     "metadata": {},
     "output_type": "execute_result"
    }
   ],
   "source": [
    "# confusion matrix\n",
    "from sklearn.metrics import confusion_matrix\n",
    "\n",
    "y_test_pred = sess.run(pred, feed_dict={tf_X:X_test, tf_Y: Y_test})\n",
    "confusion_matrix(\n",
    "    y_test,\n",
    "    np.argmax(y_test_pred, 1)) # y_pred"
   ]
  },
  {
   "cell_type": "code",
   "execution_count": 36,
   "metadata": {},
   "outputs": [
    {
     "name": "stdout",
     "output_type": "stream",
     "text": [
      "Epoch:  5 \tLoss:  1.9290577\n",
      "Epoch:  10 \tLoss:  1.5986427\n",
      "Epoch:  15 \tLoss:  1.3717638\n",
      "Epoch:  20 \tLoss:  1.2122678\n",
      "Epoch:  25 \tLoss:  1.0960866\n",
      "Epoch:  30 \tLoss:  1.0083592\n",
      "Epoch:  35 \tLoss:  0.9399643\n",
      "Epoch:  40 \tLoss:  0.8851721\n",
      "Epoch:  45 \tLoss:  0.8402643\n",
      "Epoch:  50 \tLoss:  0.8027469\n",
      "Epoch:  55 \tLoss:  0.7708938\n",
      "Epoch:  60 \tLoss:  0.74347645\n",
      "Epoch:  65 \tLoss:  0.7195984\n",
      "Epoch:  70 \tLoss:  0.6985906\n",
      "Epoch:  75 \tLoss:  0.6799438\n",
      "Epoch:  80 \tLoss:  0.663264\n",
      "Epoch:  85 \tLoss:  0.64824116\n",
      "Epoch:  90 \tLoss:  0.6346279\n",
      "Epoch:  95 \tLoss:  0.62222415\n",
      "Epoch:  100 \tLoss:  0.61086744\n",
      "Optimization Completed\n",
      "Accuracy:  0.8707\n"
     ]
    }
   ],
   "source": [
    "init = tf.global_variables_initializer()\n",
    "\n",
    "sess = tf.Session()\n",
    "sess.run(init)\n",
    "losses = [] ## add losses\n",
    "\n",
    "for epoch in range(0, training_epochs):\n",
    "    _, l = sess.run([optimizer, loss], feed_dict = {tf_X: X_train, tf_Y: Y_train})\n",
    "    \n",
    "    losses += [l]\n",
    "    \n",
    "    if (epoch + 1) % display_step == 0:\n",
    "        print(\"Epoch: \", epoch +1, \"\\tLoss: \", l)\n",
    "        \n",
    "print(\"Optimization Completed\")\n",
    "\n",
    "correct_preidction = tf.equal(tf.argmax(pred, 1), tf.argmax(tf_Y, 1))\n",
    "accuracy = tf.reduce_mean(tf.cast(correct_preidction, tf.float32))\n",
    "accuracy_eval = sess.run(accuracy, feed_dict = {tf_X : X_test, tf_Y : Y_test})\n",
    "print(\"Accuracy: \", accuracy_eval)"
   ]
  },
  {
   "cell_type": "code",
   "execution_count": 37,
   "metadata": {},
   "outputs": [
    {
     "data": {
      "image/png": "[encoded data removed]",
      "text/plain": [
       "<Figure size 432x288 with 1 Axes>"
      ]
     },
     "metadata": {
      "needs_background": "light"
     },
     "output_type": "display_data"
    }
   ],
   "source": [
    "plt.figure()\n",
    "plt.plot(losses)\n",
    "plt.show()"
   ]
  },
  {
   "cell_type": "markdown",
   "metadata": {},
   "source": [
    "## model"
   ]
  },
  {
   "cell_type": "raw",
   "metadata": {},
   "source": [
    "variable 로 cross entropy 로 위에 실습해봤고\n",
    "이제는 텐서플로우에서 제공하는 솦ㅌ맥스 써서"
   ]
  },
  {
   "cell_type": "code",
   "execution_count": 39,
   "metadata": {},
   "outputs": [],
   "source": [
    "#build model and optimizer\n",
    "\n",
    "tf_X = tf.placeholder(tf.float32, [None, 784])\n",
    "tf_Y = tf.placeholder(tf.float32, [None, 10])\n",
    "\n",
    "logit = tf.layers.dense(tf_X, 10)\n",
    "pred = tf.nn.softmax(logit)\n",
    "\n",
    "# cross entropy loss\n",
    "\n",
    "loss = tf.losses.softmax_cross_entropy(tf_Y, logit)\n",
    "optimizer = tf.train.GradientDescentOptimizer(learning_rate).minimize(loss)"
   ]
  },
  {
   "cell_type": "code",
   "execution_count": 40,
   "metadata": {},
   "outputs": [
    {
     "name": "stdout",
     "output_type": "stream",
     "text": [
      "Optimization completed\n",
      "Accuracy:  0.8664\n"
     ]
    }
   ],
   "source": [
    "# train\n",
    "\n",
    "init = tf.global_variables_initializer()\n",
    "\n",
    "sess = tf.Session()\n",
    "sess.run(init)\n",
    "\n",
    "for epoch in range(0, training_epochs):\n",
    "    sess.run(optimizer, feed_dict = {tf_X: X_train, tf_Y: Y_train})\n",
    "    \n",
    "print(\"Optimization completed\")\n",
    "\n",
    "correct_preidction = tf.equal(tf.argmax(pred, 1), tf.argmax(tf_Y, 1))\n",
    "accuracy = tf.reduce_mean(tf.cast(correct_preidction, tf.float32))\n",
    "accuracy_eval = sess.run(accuracy, feed_dict = {tf_X : X_test, tf_Y : Y_test})\n",
    "print(\"Accuracy: \", accuracy_eval)"
   ]
  },
  {
   "cell_type": "code",
   "execution_count": 41,
   "metadata": {},
   "outputs": [
    {
     "data": {
      "text/plain": [
       "array([[ 942,    0,    3,    7,    0,    4,   16,    1,    7,    0],\n",
       "       [   0, 1100,    3,    2,    1,    2,    4,    0,   23,    0],\n",
       "       [  17,   19,  840,   22,   21,    0,   28,   23,   53,    9],\n",
       "       [   8,    3,   27,  862,    1,   42,    8,   20,   22,   17],\n",
       "       [   3,    8,    3,    2,  854,    1,   18,    2,   10,   81],\n",
       "       [  25,   17,    3,   69,   16,  644,   28,   13,   59,   18],\n",
       "       [  17,    3,   15,    3,   21,   16,  875,    1,    7,    0],\n",
       "       [   3,   39,   27,    3,   12,    0,    1,  892,    7,   44],\n",
       "       [   8,   14,   13,   43,   11,   27,   17,   15,  802,   24],\n",
       "       [  14,   13,    9,   14,   44,   10,    3,   37,   12,  853]])"
      ]
     },
     "execution_count": 41,
     "metadata": {},
     "output_type": "execute_result"
    }
   ],
   "source": [
    "# confusion matrix\n",
    "\n",
    "y_test_pred = sess.run(pred, feed_dict={tf_X:X_test, tf_Y: Y_test})\n",
    "confusion_matrix(\n",
    "    y_test,\n",
    "    np.argmax(y_test_pred, 1)) # y_pred"
   ]
  },
  {
   "cell_type": "code",
   "execution_count": 42,
   "metadata": {},
   "outputs": [
    {
     "data": {
      "image/png": "[encoded data removed]",
      "text/plain": [
       "<Figure size 432x288 with 1 Axes>"
      ]
     },
     "metadata": {
      "needs_background": "light"
     },
     "output_type": "display_data"
    }
   ],
   "source": [
    "plt.figure()\n",
    "plt.plot(losses)\n",
    "plt.show()"
   ]
  }
 ],
 "metadata": {
  "kernelspec": {
   "display_name": "Tensorflow",
   "language": "python",
   "name": "tensorflow"
  },
  "language_info": {
   "codemirror_mode": {
    "name": "ipython",
    "version": 3
   },
   "file_extension": ".py",
   "mimetype": "text/x-python",
   "name": "python",
   "nbconvert_exporter": "python",
   "pygments_lexer": "ipython3",
   "version": "3.7.4"
  },
  "toc": {
   "base_numbering": 1,
   "nav_menu": {},
   "number_sections": true,
   "sideBar": true,
   "skip_h1_title": false,
   "title_cell": "Table of Contents",
   "title_sidebar": "Contents",
   "toc_cell": false,
   "toc_position": {},
   "toc_section_display": true,
   "toc_window_display": false
  }
 },
 "nbformat": 4,
 "nbformat_minor": 2
}
