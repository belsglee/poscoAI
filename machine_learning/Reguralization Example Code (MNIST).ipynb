{
 "cells": [
  {
   "cell_type": "markdown",
   "metadata": {
    "slideshow": {
     "slide_type": "slide"
    }
   },
   "source": [
    "# Reguralization (Dropout, Normalization\n",
    "> ## 1. Library\n",
    "\n",
    "> ## 2. Load Dataset and Preprocess\n",
    "\n",
    "> ## 3. MLP naive setting\n",
    "\n",
    "> ## 4. MLP batch norm\n",
    ">> ### 4.1 with test phase\n",
    ">> ### 4.2 with train, test phase\n",
    "\n",
    "> ## 5. Dropout\n",
    "\n",
    "> ## 6. Batch norm & Dropout"
   ]
  },
  {
   "cell_type": "markdown",
   "metadata": {
    "slideshow": {
     "slide_type": "slide"
    }
   },
   "source": [
    "# Library"
   ]
  },
  {
   "cell_type": "code",
   "execution_count": 1,
   "metadata": {
    "slideshow": {
     "slide_type": "-"
    }
   },
   "outputs": [],
   "source": [
    "import os\n",
    "import numpy as np\n",
    "import tensorflow as tf\n",
    "\n",
    "from matplotlib import pyplot as plt\n",
    "from sklearn.metrics import confusion_matrix\n",
    "\n",
    "from tensorflow.keras.datasets import mnist as data\n",
    "try: os.mkdir('MNIST')\n",
    "except: pass"
   ]
  },
  {
   "cell_type": "markdown",
   "metadata": {
    "slideshow": {
     "slide_type": "slide"
    }
   },
   "source": [
    "# Load Dataset and Preprocess"
   ]
  },
  {
   "cell_type": "code",
   "execution_count": 2,
   "metadata": {
    "slideshow": {
     "slide_type": "-"
    }
   },
   "outputs": [
    {
     "name": "stdout",
     "output_type": "stream",
     "text": [
      "(60000, 28, 28) (60000,) (10000, 28, 28) (10000,)\n",
      "60000 (28, 28) 10\n",
      "(60000, 784) (10000, 784) (60000, 10) (10000, 10)\n"
     ]
    }
   ],
   "source": [
    "# load dataset\n",
    "(x_train, y_train), (x_test, y_test) = data.load_data()\n",
    "print(x_train.shape, y_train.shape, x_test.shape, y_test.shape)\n",
    "\n",
    "train_n_sample = len(x_train)\n",
    "shape = x_train[0].shape[0:]\n",
    "n_class = len(np.unique(y_train))\n",
    "print(train_n_sample, shape, n_class)\n",
    "\n",
    "# x reshape and x normalization\n",
    "X_train = x_train.reshape(-1, np.prod(shape)) / 255.\n",
    "X_test = x_test.reshape(-1, np.prod(shape)) / 255.\n",
    "\n",
    "# y onehot\n",
    "Y_train = np.eye(n_class)[y_train.reshape(-1)]\n",
    "Y_test = np.eye(n_class)[y_test.reshape(-1)]\n",
    "\n",
    "print(X_train.shape, X_test.shape, Y_train.shape, Y_test.shape)"
   ]
  },
  {
   "cell_type": "markdown",
   "metadata": {
    "slideshow": {
     "slide_type": "slide"
    }
   },
   "source": [
    "# Multi-Layer Perceptron (MLP)"
   ]
  },
  {
   "cell_type": "markdown",
   "metadata": {
    "slideshow": {
     "slide_type": "-"
    }
   },
   "source": [
    "# Hyper-parameter setting"
   ]
  },
  {
   "cell_type": "code",
   "execution_count": 3,
   "metadata": {
    "slideshow": {
     "slide_type": "-"
    }
   },
   "outputs": [],
   "source": [
    "# hyper parameter setting\n",
    "training_epochs = 100\n",
    "learning_rate = 1e-1\n",
    "display_step = 10\n",
    "\n",
    "batch_size = 100\n",
    "\n",
    "hidden_nodes = [1024, 300]\n",
    "activation = tf.nn.tanh"
   ]
  },
  {
   "cell_type": "markdown",
   "metadata": {
    "slideshow": {
     "slide_type": "skip"
    }
   },
   "source": [
    "# Build FC Layer Model"
   ]
  },
  {
   "cell_type": "code",
   "execution_count": 4,
   "metadata": {
    "slideshow": {
     "slide_type": "skip"
    }
   },
   "outputs": [],
   "source": [
    "# build 3-layer fully-connected neural network model\n",
    "# hidden layers' size is [1024, 300]\n",
    "tf.reset_default_graph()\n",
    "\n",
    "# placeholder\n",
    "tf_X = tf.placeholder(tf.float32, (None, np.prod(shape)))\n",
    "tf_Y = tf.placeholder(tf.float32, (None, n_class))\n",
    "\n",
    "# model\n",
    "hidden1 = tf.layers.dense(tf_X, 512, activation=activation)\n",
    "logit = tf.layers.dense(hidden1, n_class)\n",
    "pred = tf.nn.softmax(logit)\n",
    "\n",
    "# loss and optimizer\n",
    "loss = tf.losses.softmax_cross_entropy(tf_Y, logit)\n",
    "optimizer = tf.train.GradientDescentOptimizer(learning_rate).minimize(loss)"
   ]
  },
  {
   "cell_type": "markdown",
   "metadata": {
    "slideshow": {
     "slide_type": "skip"
    }
   },
   "source": [
    "## Train model"
   ]
  },
  {
   "cell_type": "code",
   "execution_count": 5,
   "metadata": {
    "slideshow": {
     "slide_type": "skip"
    }
   },
   "outputs": [
    {
     "name": "stdout",
     "output_type": "stream",
     "text": [
      "Epoch: 10, \t Loss: 0.11375101655721664\n",
      "Epoch: 20, \t Loss: 0.05599690601229668\n",
      "Epoch: 30, \t Loss: 0.033025652170181274\n",
      "Epoch: 40, \t Loss: 0.020743703469634056\n",
      "Epoch: 50, \t Loss: 0.01374079380184412\n",
      "Epoch: 60, \t Loss: 0.009647340513765812\n",
      "Epoch: 70, \t Loss: 0.007136051077395678\n",
      "Epoch: 80, \t Loss: 0.005492764990776777\n",
      "Epoch: 90, \t Loss: 0.0044012111611664295\n",
      "Epoch: 100, \t Loss: 0.003624105826020241\n"
     ]
    }
   ],
   "source": [
    "with tf.Session() as sess:\n",
    "    # init\n",
    "    sess.run(tf.global_variables_initializer())\n",
    "\n",
    "    # train\n",
    "    epoch_losses, iter_losses = [], []\n",
    "    total_batch = int( train_n_sample / batch_size )\n",
    "    for epoch in range(training_epochs):\n",
    "        # shuffle\n",
    "        random_idx = np.random.permutation(train_n_sample)\n",
    "        shuffled_X_train = X_train[random_idx]\n",
    "        shuffled_Y_train = Y_train[random_idx]\n",
    "\n",
    "        for i in range(total_batch):\n",
    "            # get batch\n",
    "            batch_X_train = shuffled_X_train[i*batch_size : (i+1)*batch_size]\n",
    "            batch_Y_train = shuffled_Y_train[i*batch_size : (i+1)*batch_size]\n",
    "\n",
    "            _, l = sess.run([optimizer, loss], \n",
    "                            feed_dict = {tf_X:batch_X_train, tf_Y:batch_Y_train})\n",
    "            iter_losses.append(l)\n",
    "        epoch_losses.append(np.mean(iter_losses[-total_batch:]))\n",
    "\n",
    "        if (epoch + 1) % display_step == 0:\n",
    "            print('Epoch: {}, \\t Loss: {}'.format(epoch+1, epoch_losses[-1]))\n",
    "\n",
    "    # result\n",
    "    train_pred = sess.run(pred, feed_dict={tf_X:X_train})\n",
    "    test_pred = sess.run(pred, feed_dict={tf_X:X_test})\n",
    "\n",
    "    # save\n",
    "    saver = tf.train.Saver()\n",
    "    saver.save(sess, 'MNIST/naive_512/model')"
   ]
  },
  {
   "cell_type": "code",
   "execution_count": 6,
   "metadata": {
    "slideshow": {
     "slide_type": "skip"
    }
   },
   "outputs": [
    {
     "name": "stdout",
     "output_type": "stream",
     "text": [
      "INFO:tensorflow:Restoring parameters from MNIST/naive_512/model\n"
     ]
    }
   ],
   "source": [
    "with tf.Session() as sess:\n",
    "    saver = tf.train.import_meta_graph('MNIST/naive_512/model.meta')\n",
    "    saver.restore(sess, 'MNIST/naive_512/model')"
   ]
  },
  {
   "cell_type": "markdown",
   "metadata": {
    "slideshow": {
     "slide_type": "skip"
    }
   },
   "source": [
    "## Plot result"
   ]
  },
  {
   "cell_type": "code",
   "execution_count": 7,
   "metadata": {
    "slideshow": {
     "slide_type": "skip"
    }
   },
   "outputs": [
    {
     "data": {
      "image/png": "[encoded data removed]",
      "text/plain": [
       "<Figure size 432x288 with 1 Axes>"
      ]
     },
     "metadata": {
      "needs_background": "light"
     },
     "output_type": "display_data"
    },
    {
     "name": "stdout",
     "output_type": "stream",
     "text": [
      "train  accuracy:  0.999983333333\n",
      "test  accuracy:  0.9825\n",
      "[[ 971    0    1    0    1    2    2    1    1    1]\n",
      " [   0 1126    2    1    0    1    2    1    2    0]\n",
      " [   4    0 1013    3    1    0    3    4    4    0]\n",
      " [   0    0    1  998    0    2    0    3    0    6]\n",
      " [   0    0    2    1  964    0    5    1    1    8]\n",
      " [   4    0    0    8    3  868    4    1    3    1]\n",
      " [   4    3    0    1    1    3  945    0    1    0]\n",
      " [   1    1    5    5    1    0    0 1009    2    4]\n",
      " [   3    1    3    4    3    4    3    4  946    3]\n",
      " [   2    2    0    5    9    1    0    4    1  985]]\n"
     ]
    }
   ],
   "source": [
    "# plot epoch losses\n",
    "def plot_epoch_losses(epoch_losses):\n",
    "    plt.figure()\n",
    "    plt.plot(epoch_losses)\n",
    "    plt.show()\n",
    "plot_epoch_losses(epoch_losses)\n",
    "\n",
    "# accuracy\n",
    "def print_accuracy(label, pred, name=''):\n",
    "    accuracy = np.mean(label==pred)\n",
    "    print(name, ' accuracy: ', accuracy)\n",
    "print_accuracy(y_train.reshape(-1), np.argmax(train_pred, axis=1), 'train')\n",
    "print_accuracy(y_test.reshape(-1), np.argmax(test_pred, axis=1), 'test')\n",
    "\n",
    "# confusion matrix\n",
    "def print_confusion_matrix(label, pred):\n",
    "    matrix = confusion_matrix(label, pred)\n",
    "    print(matrix)\n",
    "print_confusion_matrix(y_test.reshape(-1), np.argmax(test_pred, axis=1))"
   ]
  },
  {
   "cell_type": "markdown",
   "metadata": {
    "slideshow": {
     "slide_type": "slide"
    }
   },
   "source": [
    "# Build FC Layer Model"
   ]
  },
  {
   "cell_type": "code",
   "execution_count": 8,
   "metadata": {
    "slideshow": {
     "slide_type": "-"
    }
   },
   "outputs": [],
   "source": [
    "# build 3-layer fully-connected neural network model\n",
    "# hidden layers' size is [1024, 300]\n",
    "tf.reset_default_graph()\n",
    "\n",
    "# placeholder\n",
    "tf_X = tf.placeholder(tf.float32, (None, np.prod(shape)))\n",
    "tf_Y = tf.placeholder(tf.float32, (None, n_class))\n",
    "\n",
    "# model\n",
    "hidden1 = tf.layers.dense(tf_X, hidden_nodes[0], activation=activation)\n",
    "hidden2 = tf.layers.dense(hidden1, hidden_nodes[1], activation=activation)\n",
    "logit = tf.layers.dense(hidden2, n_class)\n",
    "pred = tf.nn.softmax(logit)\n",
    "\n",
    "# loss and optimizer\n",
    "loss = tf.losses.softmax_cross_entropy(tf_Y, logit)\n",
    "optimizer = tf.train.GradientDescentOptimizer(learning_rate).minimize(loss)"
   ]
  },
  {
   "cell_type": "markdown",
   "metadata": {
    "slideshow": {
     "slide_type": "subslide"
    }
   },
   "source": [
    "## Train & Save model"
   ]
  },
  {
   "cell_type": "code",
   "execution_count": 9,
   "metadata": {
    "slideshow": {
     "slide_type": "-"
    }
   },
   "outputs": [
    {
     "name": "stdout",
     "output_type": "stream",
     "text": [
      "Epoch: 10, \t Loss: 0.05880291759967804\n",
      "Epoch: 20, \t Loss: 0.022583652287721634\n",
      "Epoch: 30, \t Loss: 0.010018118657171726\n",
      "Epoch: 40, \t Loss: 0.005434424616396427\n",
      "Epoch: 50, \t Loss: 0.0034258489031344652\n",
      "Epoch: 60, \t Loss: 0.002430029446259141\n",
      "Epoch: 70, \t Loss: 0.0018622040515765548\n",
      "Epoch: 80, \t Loss: 0.0014941829722374678\n",
      "Epoch: 90, \t Loss: 0.0012428228510543704\n",
      "Epoch: 100, \t Loss: 0.0010519326897338033\n"
     ]
    }
   ],
   "source": [
    "with tf.Session() as sess:\n",
    "    # init\n",
    "    sess.run(tf.global_variables_initializer())\n",
    "    \n",
    "    # train\n",
    "    epoch_losses, iter_losses = [], []\n",
    "    total_batch = int( train_n_sample / batch_size )\n",
    "    for epoch in range(training_epochs):\n",
    "        # shuffle\n",
    "        random_idx = np.random.permutation(train_n_sample)\n",
    "        shuffled_X_train = X_train[random_idx]\n",
    "        shuffled_Y_train = Y_train[random_idx]\n",
    "        \n",
    "        for i in range(total_batch):\n",
    "            # get batch\n",
    "            batch_X_train = shuffled_X_train[i*batch_size : (i+1)*batch_size]\n",
    "            batch_Y_train = shuffled_Y_train[i*batch_size : (i+1)*batch_size]\n",
    "            \n",
    "            _, l = sess.run([optimizer, loss], \n",
    "                            feed_dict = {tf_X:batch_X_train, tf_Y:batch_Y_train})\n",
    "            iter_losses.append(l)\n",
    "        epoch_losses.append(np.mean(iter_losses[-total_batch:]))\n",
    "        \n",
    "        if (epoch + 1) % display_step == 0:\n",
    "            print('Epoch: {}, \\t Loss: {}'.format(epoch+1, epoch_losses[-1]))\n",
    "    \n",
    "    # result\n",
    "    train_pred = sess.run(pred, feed_dict={tf_X:X_train})\n",
    "    test_pred = sess.run(pred, feed_dict = {tf_X:X_test})\n",
    "    \n",
    "    saver = tf.train.Saver()\n",
    "    saver.save(sess, 'MNIST/naive_1024-300/model')"
   ]
  },
  {
   "cell_type": "markdown",
   "metadata": {
    "slideshow": {
     "slide_type": "subslide"
    }
   },
   "source": [
    "## Load model"
   ]
  },
  {
   "cell_type": "code",
   "execution_count": 10,
   "metadata": {
    "slideshow": {
     "slide_type": "-"
    }
   },
   "outputs": [
    {
     "name": "stdout",
     "output_type": "stream",
     "text": [
      "INFO:tensorflow:Restoring parameters from MNIST/naive_1024-300/model\n"
     ]
    }
   ],
   "source": [
    "with tf.Session() as sess:\n",
    "    sess = tf.Session()\n",
    "    saver = tf.train.import_meta_graph('MNIST/naive_1024-300/model.meta')\n",
    "    saver.restore(sess, 'MNIST/naive_1024-300/model')\n",
    "    saver.save(sess, 'MNIST/naive_1024-300_/model')"
   ]
  },
  {
   "cell_type": "markdown",
   "metadata": {
    "slideshow": {
     "slide_type": "subslide"
    }
   },
   "source": [
    "## Plot result"
   ]
  },
  {
   "cell_type": "code",
   "execution_count": 11,
   "metadata": {
    "slideshow": {
     "slide_type": "-"
    }
   },
   "outputs": [
    {
     "data": {
      "image/png": "[encoded data removed]",
      "text/plain": [
       "<Figure size 432x288 with 1 Axes>"
      ]
     },
     "metadata": {
      "needs_background": "light"
     },
     "output_type": "display_data"
    },
    {
     "name": "stdout",
     "output_type": "stream",
     "text": [
      "train  accuracy:  1.0\n",
      "test  accuracy:  0.9825\n",
      "[[ 973    0    1    0    1    1    1    1    2    0]\n",
      " [   0 1126    2    2    0    1    1    1    2    0]\n",
      " [   3    1 1012    3    2    0    2    2    7    0]\n",
      " [   0    0    2  996    0    3    0    2    2    5]\n",
      " [   1    0    1    1  964    0    4    2    0    9]\n",
      " [   3    0    0    8    1  869    5    1    3    2]\n",
      " [   4    2    1    0    2    5  942    0    2    0]\n",
      " [   1    1    6    1    1    0    0 1011    3    4]\n",
      " [   3    0    2    4    2    4    2    3  950    4]\n",
      " [   1    2    0    8    8    3    0    4    1  982]]\n"
     ]
    }
   ],
   "source": [
    "# plot epoch losses\n",
    "def plot_epoch_losses(epoch_losses):\n",
    "    plt.figure()\n",
    "    plt.plot(epoch_losses)\n",
    "    plt.show()\n",
    "plot_epoch_losses(epoch_losses)\n",
    "\n",
    "# accuracy\n",
    "def print_accuracy(label, pred, name):\n",
    "    accuracy = np.mean(label==pred)\n",
    "    print(name, ' accuracy: ', accuracy)\n",
    "print_accuracy(y_train.reshape(-1), np.argmax(train_pred, axis=1), 'train')\n",
    "print_accuracy(y_test.reshape(-1), np.argmax(test_pred, axis=1), 'test')\n",
    "\n",
    "# confusion matrix\n",
    "def print_confusion_matrix(label, pred):\n",
    "    matrix = confusion_matrix(label, pred)\n",
    "    print(matrix)\n",
    "print_confusion_matrix(y_test.reshape(-1), np.argmax(test_pred, axis=1))"
   ]
  },
  {
   "cell_type": "markdown",
   "metadata": {
    "slideshow": {
     "slide_type": "slide"
    }
   },
   "source": [
    "# Build FC Layer Model\n",
    "## (Show inner distribution)"
   ]
  },
  {
   "cell_type": "code",
   "execution_count": 12,
   "metadata": {
    "slideshow": {
     "slide_type": "-"
    }
   },
   "outputs": [],
   "source": [
    "# build 3-layer fully-connected neural network model\n",
    "# hidden layers' size is [1024, 300]\n",
    "tf.reset_default_graph()\n",
    "\n",
    "# placeholder\n",
    "tf_X = tf.placeholder(tf.float32, (None, np.prod(shape)))\n",
    "tf_Y = tf.placeholder(tf.float32, (None, n_class))\n",
    "\n",
    "# model\n",
    "output1 = tf.layers.dense(tf_X, hidden_nodes[0])\n",
    "hidden1 = activation(output1)\n",
    "output2 = tf.layers.dense(hidden1, hidden_nodes[1])\n",
    "hidden2 = activation(output2)\n",
    "logit = tf.layers.dense(hidden2, n_class)\n",
    "pred = tf.nn.softmax(logit)\n",
    "\n",
    "# loss and optimizer\n",
    "loss = tf.losses.softmax_cross_entropy(tf_Y, logit)\n",
    "optimizer = tf.train.GradientDescentOptimizer(learning_rate).minimize(loss)"
   ]
  },
  {
   "cell_type": "markdown",
   "metadata": {
    "slideshow": {
     "slide_type": "subslide"
    }
   },
   "source": [
    "## Train & Save model"
   ]
  },
  {
   "cell_type": "code",
   "execution_count": 13,
   "metadata": {
    "slideshow": {
     "slide_type": "-"
    }
   },
   "outputs": [
    {
     "name": "stdout",
     "output_type": "stream",
     "text": [
      "Epoch: 10, \t Loss: 0.05869799479842186\n",
      "Epoch: 20, \t Loss: 0.021941931918263435\n",
      "Epoch: 30, \t Loss: 0.009756360203027725\n",
      "Epoch: 40, \t Loss: 0.0053091575391590595\n",
      "Epoch: 50, \t Loss: 0.0033837456721812487\n",
      "Epoch: 60, \t Loss: 0.002402219455689192\n",
      "Epoch: 70, \t Loss: 0.001844302867539227\n",
      "Epoch: 80, \t Loss: 0.001481509767472744\n",
      "Epoch: 90, \t Loss: 0.0012332721380516887\n",
      "Epoch: 100, \t Loss: 0.0010504863457754254\n"
     ]
    }
   ],
   "source": [
    "with tf.Session() as sess:\n",
    "    # init\n",
    "    sess.run(tf.global_variables_initializer())\n",
    "    \n",
    "    # train\n",
    "    epoch_losses, iter_losses = [], []\n",
    "    total_batch = int( train_n_sample / batch_size )\n",
    "    for epoch in range(training_epochs):\n",
    "        # shuffle\n",
    "        random_idx = np.random.permutation(train_n_sample)\n",
    "        shuffled_X_train = X_train[random_idx]\n",
    "        shuffled_Y_train = Y_train[random_idx]\n",
    "        \n",
    "        for i in range(total_batch):\n",
    "            # get batch\n",
    "            batch_X_train = shuffled_X_train[i*batch_size : (i+1)*batch_size]\n",
    "            batch_Y_train = shuffled_Y_train[i*batch_size : (i+1)*batch_size]\n",
    "            \n",
    "            _, l = sess.run([optimizer, loss], \n",
    "                            feed_dict = {tf_X:batch_X_train, tf_Y:batch_Y_train})\n",
    "            iter_losses.append(l)\n",
    "        epoch_losses.append(np.mean(iter_losses[-total_batch:]))\n",
    "        \n",
    "        if (epoch + 1) % display_step == 0:\n",
    "            print('Epoch: {}, \\t Loss: {}'.format(epoch+1, epoch_losses[-1]))\n",
    "    \n",
    "    # result\n",
    "    train_pred = sess.run(pred, feed_dict={tf_X:X_train})\n",
    "    test_pred = sess.run(pred, feed_dict = {tf_X:X_test})\n",
    "    \n",
    "    saver = tf.train.Saver()\n",
    "    saver.save(sess, 'MNIST/naive_1024-300/model')"
   ]
  },
  {
   "cell_type": "markdown",
   "metadata": {
    "slideshow": {
     "slide_type": "subslide"
    }
   },
   "source": [
    "## Plot result"
   ]
  },
  {
   "cell_type": "code",
   "execution_count": 14,
   "metadata": {
    "slideshow": {
     "slide_type": "-"
    }
   },
   "outputs": [
    {
     "data": {
      "image/png": "[encoded data removed]",
      "text/plain": [
       "<Figure size 432x288 with 1 Axes>"
      ]
     },
     "metadata": {
      "needs_background": "light"
     },
     "output_type": "display_data"
    },
    {
     "name": "stdout",
     "output_type": "stream",
     "text": [
      "train  accuracy:  1.0\n",
      "test  accuracy:  0.9823\n",
      "[[ 973    0    1    1    1    1    0    1    1    1]\n",
      " [   0 1125    3    1    0    1    2    1    2    0]\n",
      " [   5    1 1012    3    1    0    2    3    5    0]\n",
      " [   0    0    4  988    0    3    0    2    3   10]\n",
      " [   0    0    3    1  968    1    3    0    0    6]\n",
      " [   3    0    0    8    1  871    5    0    2    2]\n",
      " [   4    2    0    1    4    4  943    0    0    0]\n",
      " [   2    2    9    2    0    0    0 1007    1    5]\n",
      " [   3    1    2    7    3    2    0    3  949    4]\n",
      " [   1    2    0    4    8    1    0    5    1  987]]\n"
     ]
    }
   ],
   "source": [
    "# plot epoch losses\n",
    "plot_epoch_losses(epoch_losses)\n",
    "# accuracy\n",
    "print_accuracy(y_train.reshape(-1), np.argmax(train_pred, axis=1), 'train')\n",
    "print_accuracy(y_test.reshape(-1), np.argmax(test_pred, axis=1), 'test')\n",
    "# confusion matrix\n",
    "print_confusion_matrix(y_test.reshape(-1), np.argmax(test_pred, axis=1))"
   ]
  },
  {
   "cell_type": "markdown",
   "metadata": {
    "slideshow": {
     "slide_type": "subslide"
    }
   },
   "source": [
    "## Show inner distribution"
   ]
  },
  {
   "cell_type": "code",
   "execution_count": 15,
   "metadata": {
    "slideshow": {
     "slide_type": "-"
    }
   },
   "outputs": [
    {
     "name": "stdout",
     "output_type": "stream",
     "text": [
      "INFO:tensorflow:Restoring parameters from MNIST/naive_1024-300/model\n",
      "(10000, 784) (10000, 1024) (10000, 1024) (10000, 300) (10000, 300)\n"
     ]
    },
    {
     "data": {
      "image/png": "[encoded data removed]",
      "text/plain": [
       "<Figure size 720x720 with 9 Axes>"
      ]
     },
     "metadata": {
      "needs_background": "light"
     },
     "output_type": "display_data"
    }
   ],
   "source": [
    "with tf.Session() as sess:\n",
    "    saver = tf.train.import_meta_graph('MNIST/naive_1024-300/model.meta')\n",
    "    saver.restore(sess, 'MNIST/naive_1024-300/model')\n",
    "\n",
    "    [x, o1, h1, o2, h2] = sess.run(\n",
    "        [tf_X, output1, hidden1, output2, hidden2], \n",
    "        feed_dict={tf_X: X_test})\n",
    "    print(x.shape, o1.shape, h1.shape, o2.shape, h2.shape)\n",
    "\n",
    "def plot_inner_dist(x, o1, h1, o2, h2):\n",
    "    fig, axs = plt.subplots(3, 3, figsize=(10, 10), sharex='col')\n",
    "    axs[0, 0].hist(x.reshape(-1))\n",
    "    axs[1, 0].hist(o1.reshape(-1))\n",
    "    axs[1, 1].hist(h1.reshape(-1))\n",
    "    axs[1, 2].scatter(o1[0], h1[0])\n",
    "    axs[2, 0].hist(o2.reshape(-1))\n",
    "    axs[2, 1].hist(h2.reshape(-1))\n",
    "    axs[2, 2].scatter(o2[0], h2[0])\n",
    "    plt.show()\n",
    "plot_inner_dist(x, o1, h1, o2, h2)"
   ]
  },
  {
   "cell_type": "markdown",
   "metadata": {
    "slideshow": {
     "slide_type": "slide"
    }
   },
   "source": [
    "# Add Batch Normalize Layers"
   ]
  },
  {
   "cell_type": "code",
   "execution_count": 16,
   "metadata": {
    "slideshow": {
     "slide_type": "-"
    }
   },
   "outputs": [],
   "source": [
    "# build 3-layer fully-connected neural network model\n",
    "# hidden layers' size is [1024, 300]\n",
    "tf.reset_default_graph()\n",
    "\n",
    "# placeholder\n",
    "tf_X = tf.placeholder(tf.float32, [None, np.prod(shape)])\n",
    "tf_Y = tf.placeholder(tf.float32, [None, n_class])\n",
    "\n",
    "# model\n",
    "output1 = tf.layers.dense(tf_X, hidden_nodes[0])\n",
    "norm1 = tf.contrib.layers.batch_norm(output1)\n",
    "hidden1 = activation(norm1)\n",
    "output2 = tf.layers.dense(hidden1, hidden_nodes[1])\n",
    "norm2 = tf.contrib.layers.batch_norm(output2)\n",
    "hidden2 = activation(norm2)\n",
    "logit = tf.layers.dense(hidden2, n_class)\n",
    "pred = tf.nn.softmax(logit)\n",
    "\n",
    "# loss and optimizer\n",
    "loss = tf.losses.softmax_cross_entropy(tf_Y, logit)\n",
    "optimizer = tf.train.GradientDescentOptimizer(learning_rate).minimize(loss)"
   ]
  },
  {
   "cell_type": "markdown",
   "metadata": {
    "slideshow": {
     "slide_type": "slide"
    }
   },
   "source": [
    "### Train/Test phase in batch_norm - Only Test"
   ]
  },
  {
   "cell_type": "code",
   "execution_count": 17,
   "metadata": {
    "slideshow": {
     "slide_type": "-"
    }
   },
   "outputs": [],
   "source": [
    "# build 3-layer fully-connected neural network model\n",
    "# hidden layers' size is [1024, 300]\n",
    "tf.reset_default_graph()\n",
    "\n",
    "# placeholder\n",
    "tf_X = tf.placeholder(tf.float32, [None, np.prod(shape)])\n",
    "tf_Y = tf.placeholder(tf.float32, [None, n_class])\n",
    "\n",
    "# model\n",
    "output1 = tf.layers.dense(tf_X, hidden_nodes[0])\n",
    "norm1 = tf.contrib.layers.batch_norm(output1, is_training=False)\n",
    "hidden1 = activation(norm1)\n",
    "output2 = tf.layers.dense(hidden1, hidden_nodes[1])\n",
    "norm2 = tf.contrib.layers.batch_norm(output2, is_training=False)\n",
    "hidden2 = activation(norm2)\n",
    "logit = tf.layers.dense(hidden2, n_class)\n",
    "pred = tf.nn.softmax(logit)\n",
    "\n",
    "# loss and optimizer\n",
    "loss = tf.losses.softmax_cross_entropy(tf_Y, logit)\n",
    "optimizer = tf.train.GradientDescentOptimizer(learning_rate).minimize(loss)"
   ]
  },
  {
   "cell_type": "markdown",
   "metadata": {
    "slideshow": {
     "slide_type": "subslide"
    }
   },
   "source": [
    "## Train model"
   ]
  },
  {
   "cell_type": "code",
   "execution_count": 18,
   "metadata": {
    "slideshow": {
     "slide_type": "-"
    }
   },
   "outputs": [
    {
     "name": "stdout",
     "output_type": "stream",
     "text": [
      "Epoch: 10, \t Loss: 0.05781969055533409\n",
      "Epoch: 20, \t Loss: 0.02164652571082115\n",
      "Epoch: 30, \t Loss: 0.009677915833890438\n",
      "Epoch: 40, \t Loss: 0.00525708356872201\n",
      "Epoch: 50, \t Loss: 0.003361821873113513\n",
      "Epoch: 60, \t Loss: 0.002401244593784213\n",
      "Epoch: 70, \t Loss: 0.0018444156739860773\n",
      "Epoch: 80, \t Loss: 0.0014808246633037925\n",
      "Epoch: 90, \t Loss: 0.0012279223883524537\n",
      "Epoch: 100, \t Loss: 0.001049370621331036\n"
     ]
    }
   ],
   "source": [
    "with tf.Session() as sess:\n",
    "    # init\n",
    "    sess.run(tf.global_variables_initializer())\n",
    "    \n",
    "    # train\n",
    "    epoch_losses, iter_losses = [], []\n",
    "    total_batch = int( train_n_sample / batch_size )\n",
    "    for epoch in range(training_epochs):\n",
    "        # shuffle\n",
    "        random_idx = np.random.permutation(train_n_sample)\n",
    "        shuffled_X_train = X_train[random_idx]\n",
    "        shuffled_Y_train = Y_train[random_idx]\n",
    "        \n",
    "        for i in range(total_batch):\n",
    "            # get batch\n",
    "            batch_X_train = shuffled_X_train[i*batch_size : (i+1)*batch_size]\n",
    "            batch_Y_train = shuffled_Y_train[i*batch_size : (i+1)*batch_size]\n",
    "            \n",
    "            _, l = sess.run([optimizer, loss], \n",
    "                            feed_dict = {tf_X:batch_X_train, tf_Y:batch_Y_train})\n",
    "            iter_losses.append(l)\n",
    "        epoch_losses.append(np.mean(iter_losses[-total_batch:]))\n",
    "        \n",
    "        if (epoch + 1) % display_step == 0:\n",
    "            print('Epoch: {}, \\t Loss: {}'.format(epoch+1, epoch_losses[-1]))\n",
    "    \n",
    "    # result\n",
    "    train_pred = sess.run(pred, feed_dict={tf_X:X_train})\n",
    "    test_pred = sess.run(pred, feed_dict = {tf_X:X_test})\n",
    "    \n",
    "    saver = tf.train.Saver()\n",
    "    saver.save(sess, 'MNIST/batch_norm_off_1024-300/model')"
   ]
  },
  {
   "cell_type": "markdown",
   "metadata": {
    "slideshow": {
     "slide_type": "subslide"
    }
   },
   "source": [
    "## Plot result"
   ]
  },
  {
   "cell_type": "code",
   "execution_count": 19,
   "metadata": {
    "slideshow": {
     "slide_type": "-"
    }
   },
   "outputs": [
    {
     "data": {
      "image/png": "[encoded data removed]",
      "text/plain": [
       "<Figure size 432x288 with 1 Axes>"
      ]
     },
     "metadata": {
      "needs_background": "light"
     },
     "output_type": "display_data"
    },
    {
     "name": "stdout",
     "output_type": "stream",
     "text": [
      "test  accuracy:  1.0\n",
      "test  accuracy:  0.9813\n",
      "[[ 973    0    2    1    1    0    1    1    1    0]\n",
      " [   1 1124    2    2    0    1    2    1    2    0]\n",
      " [   4    1 1011    3    1    0    2    4    5    1]\n",
      " [   0    0    3  988    0    6    0    2    4    7]\n",
      " [   0    1    3    1  963    0    3    2    0    9]\n",
      " [   3    0    0   10    1  866    5    0    4    3]\n",
      " [   6    2    1    1    3    2  942    0    1    0]\n",
      " [   0    3    7    2    0    0    0 1007    3    6]\n",
      " [   2    0    2    4    2    5    0    4  953    2]\n",
      " [   2    2    0    3    7    2    1    5    1  986]]\n"
     ]
    }
   ],
   "source": [
    "# plot epoch losses\n",
    "plot_epoch_losses(epoch_losses)\n",
    "# accuracy\n",
    "print_accuracy(y_train.reshape(-1), np.argmax(train_pred, axis=1), 'test')\n",
    "print_accuracy(y_test.reshape(-1), np.argmax(test_pred, axis=1), 'test')\n",
    "# confusion matrix\n",
    "print_confusion_matrix(y_test.reshape(-1), np.argmax(test_pred, axis=1))"
   ]
  },
  {
   "cell_type": "markdown",
   "metadata": {
    "slideshow": {
     "slide_type": "subslide"
    }
   },
   "source": [
    "## Show inner distribution"
   ]
  },
  {
   "cell_type": "code",
   "execution_count": 20,
   "metadata": {
    "slideshow": {
     "slide_type": "-"
    }
   },
   "outputs": [
    {
     "name": "stdout",
     "output_type": "stream",
     "text": [
      "INFO:tensorflow:Restoring parameters from MNIST/batch_norm_off_1024-300/model\n",
      "(10000, 784) (10000, 1024) (10000, 1024) (10000, 300) (10000, 300)\n"
     ]
    },
    {
     "data": {
      "image/png": "[encoded data removed]",
      "text/plain": [
       "<Figure size 720x720 with 9 Axes>"
      ]
     },
     "metadata": {
      "needs_background": "light"
     },
     "output_type": "display_data"
    }
   ],
   "source": [
    "with tf.Session() as sess:\n",
    "    saver = tf.train.import_meta_graph('MNIST/batch_norm_off_1024-300/model.meta')\n",
    "    saver.restore(sess, 'MNIST/batch_norm_off_1024-300/model')\n",
    "\n",
    "    [x, o1, h1, o2, h2] = sess.run(\n",
    "        [tf_X, output1, hidden1, output2, hidden2], \n",
    "        feed_dict={tf_X: X_test})\n",
    "    print(x.shape, o1.shape, h1.shape, o2.shape, h2.shape)\n",
    "\n",
    "plot_inner_dist(x, o1, h1, o2, h2)"
   ]
  },
  {
   "cell_type": "markdown",
   "metadata": {
    "slideshow": {
     "slide_type": "slide"
    }
   },
   "source": [
    "### Train/Test phase in batch_norm - Train & Test"
   ]
  },
  {
   "cell_type": "code",
   "execution_count": 21,
   "metadata": {
    "slideshow": {
     "slide_type": "-"
    }
   },
   "outputs": [],
   "source": [
    "# build 3-layer fully-connected neural network model\n",
    "# hidden layers' size is [1024, 300]\n",
    "tf.reset_default_graph()\n",
    "\n",
    "# placeholder\n",
    "tf_X = tf.placeholder(tf.float32, [None, np.prod(shape)])\n",
    "tf_Y = tf.placeholder(tf.float32, [None, n_class])\n",
    "is_train = tf.placeholder(tf.bool, [])\n",
    "\n",
    "# model\n",
    "output1 = tf.layers.dense(tf_X, hidden_nodes[0])\n",
    "norm1 = tf.contrib.layers.batch_norm(output1, is_training=is_train)\n",
    "hidden1 = activation(norm1)\n",
    "output2 = tf.layers.dense(hidden1, hidden_nodes[1])\n",
    "norm2 = tf.contrib.layers.batch_norm(output2, is_training=is_train)\n",
    "hidden2 = activation(norm2)\n",
    "logit = tf.layers.dense(hidden2, n_class)\n",
    "pred = tf.nn.softmax(logit)\n",
    "\n",
    "# loss and optimizer\n",
    "loss = tf.losses.softmax_cross_entropy(tf_Y, logit)\n",
    "update_ops = tf.get_collection(tf.GraphKeys.UPDATE_OPS)\n",
    "with tf.control_dependencies(update_ops):\n",
    "    optimizer = tf.train.GradientDescentOptimizer(learning_rate).minimize(loss)"
   ]
  },
  {
   "cell_type": "markdown",
   "metadata": {
    "slideshow": {
     "slide_type": "subslide"
    }
   },
   "source": [
    "## Train & Save model"
   ]
  },
  {
   "cell_type": "code",
   "execution_count": 22,
   "metadata": {
    "slideshow": {
     "slide_type": "-"
    }
   },
   "outputs": [
    {
     "name": "stdout",
     "output_type": "stream",
     "text": [
      "Epoch: 10, \t Loss: 0.013294516131281853\n",
      "Epoch: 20, \t Loss: 0.0017048378940671682\n",
      "Epoch: 30, \t Loss: 0.000827833719085902\n",
      "Epoch: 40, \t Loss: 0.0004362647596281022\n",
      "Epoch: 50, \t Loss: 0.0002727123792283237\n",
      "Epoch: 60, \t Loss: 0.00021345374989323318\n",
      "Epoch: 70, \t Loss: 0.00019221384718548506\n",
      "Epoch: 80, \t Loss: 0.00019906865782104433\n",
      "Epoch: 90, \t Loss: 0.00012656916806008667\n",
      "Epoch: 100, \t Loss: 0.000607344089075923\n"
     ]
    }
   ],
   "source": [
    "with tf.Session() as sess:\n",
    "    # init\n",
    "    sess.run(tf.global_variables_initializer())\n",
    "    \n",
    "    # train\n",
    "    epoch_losses, iter_losses = [], []\n",
    "    total_batch = int( train_n_sample / batch_size )\n",
    "    for epoch in range(training_epochs):\n",
    "        # shuffle\n",
    "        random_idx = np.random.permutation(train_n_sample)\n",
    "        shuffled_X_train = X_train[random_idx]\n",
    "        shuffled_Y_train = Y_train[random_idx]\n",
    "        \n",
    "        for i in range(total_batch):\n",
    "            # get batch\n",
    "            batch_X_train = shuffled_X_train[i*batch_size : (i+1)*batch_size]\n",
    "            batch_Y_train = shuffled_Y_train[i*batch_size : (i+1)*batch_size]\n",
    "            \n",
    "            _, l = sess.run([optimizer, loss], \n",
    "                            feed_dict = {tf_X:batch_X_train, tf_Y:batch_Y_train, is_train:True})\n",
    "            iter_losses.append(l)\n",
    "        epoch_losses.append(np.mean(iter_losses[-total_batch:]))\n",
    "        \n",
    "        if (epoch + 1) % display_step == 0:\n",
    "            print('Epoch: {}, \\t Loss: {}'.format(epoch+1, epoch_losses[-1]))\n",
    "    \n",
    "    # result\n",
    "    train_pred = sess.run(pred, feed_dict={tf_X:X_train, is_train:False})\n",
    "    test_pred = sess.run(pred, feed_dict = {tf_X:X_test, is_train:False})\n",
    "    \n",
    "    saver = tf.train.Saver()\n",
    "    saver.save(sess, 'MNIST/batch_norm_1024-300/model')"
   ]
  },
  {
   "cell_type": "markdown",
   "metadata": {
    "slideshow": {
     "slide_type": "subslide"
    }
   },
   "source": [
    "## Plot result"
   ]
  },
  {
   "cell_type": "code",
   "execution_count": 23,
   "metadata": {
    "slideshow": {
     "slide_type": "-"
    }
   },
   "outputs": [
    {
     "data": {
      "image/png": "[encoded data removed]",
      "text/plain": [
       "<Figure size 432x288 with 1 Axes>"
      ]
     },
     "metadata": {
      "needs_background": "light"
     },
     "output_type": "display_data"
    },
    {
     "name": "stdout",
     "output_type": "stream",
     "text": [
      "train  accuracy:  1.0\n",
      "test  accuracy:  0.9806\n",
      "[[ 972    2    2    0    0    1    0    1    1    1]\n",
      " [   0 1127    3    1    0    1    0    1    2    0]\n",
      " [   4    2 1007    2    2    0    2    6    6    1]\n",
      " [   0    1    4  991    0    3    0    2    6    3]\n",
      " [   0    0    1    1  963    0    5    1    2    9]\n",
      " [   2    0    0    7    1  873    3    0    4    2]\n",
      " [   4    2    3    0    3    5  940    0    1    0]\n",
      " [   1    3    7    2    0    2    0 1008    2    3]\n",
      " [   3    0    4    5    5    4    0    5  943    5]\n",
      " [   1    2    1    5    8    2    0    6    2  982]]\n"
     ]
    }
   ],
   "source": [
    "# plot epoch losses\n",
    "plot_epoch_losses(epoch_losses)\n",
    "# accuracy\n",
    "print_accuracy(y_train.reshape(-1), np.argmax(train_pred, axis=1), 'train')\n",
    "print_accuracy(y_test.reshape(-1), np.argmax(test_pred, axis=1), 'test')\n",
    "# confusion matrix\n",
    "print_confusion_matrix(y_test.reshape(-1), np.argmax(test_pred, axis=1))"
   ]
  },
  {
   "cell_type": "markdown",
   "metadata": {
    "slideshow": {
     "slide_type": "subslide"
    }
   },
   "source": [
    "## Show inner distribution"
   ]
  },
  {
   "cell_type": "code",
   "execution_count": 24,
   "metadata": {},
   "outputs": [
    {
     "name": "stdout",
     "output_type": "stream",
     "text": [
      "INFO:tensorflow:Restoring parameters from MNIST/batch_norm_1024-300/model\n",
      "(10000, 784) (10000, 1024) (10000, 1024) (10000, 300) (10000, 300)\n"
     ]
    },
    {
     "data": {
      "image/png": "[encoded data removed]",
      "text/plain": [
       "<Figure size 720x720 with 9 Axes>"
      ]
     },
     "metadata": {
      "needs_background": "light"
     },
     "output_type": "display_data"
    }
   ],
   "source": [
    "with tf.Session() as sess:\n",
    "    saver = tf.train.import_meta_graph('MNIST/batch_norm_1024-300/model.meta')\n",
    "    saver.restore(sess, 'MNIST/batch_norm_1024-300/model')\n",
    "\n",
    "    [x, o1, h1, o2, h2] = sess.run(\n",
    "        [tf_X, output1, hidden1, output2, hidden2], \n",
    "        feed_dict={tf_X: X_test, is_train:False})\n",
    "    print(x.shape, o1.shape, h1.shape, o2.shape, h2.shape)\n",
    "\n",
    "plot_inner_dist(x, o1, h1, o2, h2)"
   ]
  },
  {
   "cell_type": "markdown",
   "metadata": {
    "slideshow": {
     "slide_type": "slide"
    }
   },
   "source": [
    "# Add Dropout Layers"
   ]
  },
  {
   "cell_type": "code",
   "execution_count": 25,
   "metadata": {
    "slideshow": {
     "slide_type": "-"
    }
   },
   "outputs": [],
   "source": [
    "# hyper parameter setting\n",
    "training_epochs = 200\n",
    "learning_rate = 1e-1\n",
    "display_step = 10\n",
    "\n",
    "batch_size = 100\n",
    "\n",
    "hidden_nodes = [1024, 300]\n",
    "activation = tf.nn.tanh\n",
    "dropout_rate = .2"
   ]
  },
  {
   "cell_type": "code",
   "execution_count": 26,
   "metadata": {
    "slideshow": {
     "slide_type": "-"
    }
   },
   "outputs": [],
   "source": [
    "# build 3-layer fully-connected neural network model\n",
    "# hidden layers' size is [1024, 300]\n",
    "tf.reset_default_graph()\n",
    "\n",
    "# placeholder\n",
    "tf_X = tf.placeholder(tf.float32, [None, np.prod(shape)])\n",
    "tf_Y = tf.placeholder(tf.float32, [None, n_class])\n",
    "is_train = tf.placeholder(tf.bool, [])\n",
    "\n",
    "# model\n",
    "output1 = tf.layers.dense(tf_X, hidden_nodes[0])\n",
    "dropout1 = tf.contrib.layers.dropout(output1, keep_prob=1.-dropout_rate, is_training=is_train)\n",
    "hidden1 = activation(dropout1)\n",
    "output2 = tf.layers.dense(hidden1, hidden_nodes[1])\n",
    "dropout2 = tf.contrib.layers.dropout(output2, keep_prob=1.-dropout_rate, is_training=is_train)\n",
    "hidden2 = activation(dropout2)\n",
    "logit = tf.layers.dense(hidden2, n_class)\n",
    "pred = tf.nn.softmax(logit)\n",
    "\n",
    "# loss and optimizer\n",
    "loss = tf.losses.softmax_cross_entropy(tf_Y, logit)\n",
    "optimizer = tf.train.GradientDescentOptimizer(learning_rate).minimize(loss)"
   ]
  },
  {
   "cell_type": "markdown",
   "metadata": {
    "slideshow": {
     "slide_type": "subslide"
    }
   },
   "source": [
    "## Train & Save model"
   ]
  },
  {
   "cell_type": "code",
   "execution_count": 27,
   "metadata": {
    "slideshow": {
     "slide_type": "-"
    }
   },
   "outputs": [
    {
     "name": "stdout",
     "output_type": "stream",
     "text": [
      "Epoch: 10, \t Loss: 0.09220651537179947\n",
      "Epoch: 20, \t Loss: 0.05499402433633804\n",
      "Epoch: 30, \t Loss: 0.03549427166581154\n",
      "Epoch: 40, \t Loss: 0.026442453265190125\n",
      "Epoch: 50, \t Loss: 0.019386382773518562\n",
      "Epoch: 60, \t Loss: 0.015804296359419823\n",
      "Epoch: 70, \t Loss: 0.013105184771120548\n",
      "Epoch: 80, \t Loss: 0.011141600087285042\n",
      "Epoch: 90, \t Loss: 0.009419849142432213\n",
      "Epoch: 100, \t Loss: 0.008096707984805107\n",
      "Epoch: 110, \t Loss: 0.0069468338042497635\n",
      "Epoch: 120, \t Loss: 0.006268499884754419\n",
      "Epoch: 130, \t Loss: 0.005934889428317547\n",
      "Epoch: 140, \t Loss: 0.004656430333852768\n",
      "Epoch: 150, \t Loss: 0.004762847442179918\n",
      "Epoch: 160, \t Loss: 0.004096897318959236\n",
      "Epoch: 170, \t Loss: 0.0039051370695233345\n",
      "Epoch: 180, \t Loss: 0.0035972786135971546\n",
      "Epoch: 190, \t Loss: 0.0031402255408465862\n",
      "Epoch: 200, \t Loss: 0.003442950313910842\n"
     ]
    }
   ],
   "source": [
    "with tf.Session() as sess:\n",
    "    # init\n",
    "    sess.run(tf.global_variables_initializer())\n",
    "    \n",
    "    # train\n",
    "    epoch_losses, iter_losses = [], []\n",
    "    total_batch = int( train_n_sample / batch_size )\n",
    "    for epoch in range(training_epochs):\n",
    "        # shuffle\n",
    "        random_idx = np.random.permutation(train_n_sample)\n",
    "        shuffled_X_train = X_train[random_idx]\n",
    "        shuffled_Y_train = Y_train[random_idx]\n",
    "        \n",
    "        for i in range(total_batch):\n",
    "            # get batch\n",
    "            batch_X_train = shuffled_X_train[i*batch_size : (i+1)*batch_size]\n",
    "            batch_Y_train = shuffled_Y_train[i*batch_size : (i+1)*batch_size]\n",
    "            \n",
    "            _, l = sess.run([optimizer, loss], \n",
    "                            feed_dict = {tf_X:batch_X_train, tf_Y:batch_Y_train, is_train:True})\n",
    "            iter_losses.append(l)\n",
    "        epoch_losses.append(np.mean(iter_losses[-total_batch:]))\n",
    "        \n",
    "        if (epoch + 1) % display_step == 0:\n",
    "            print('Epoch: {}, \\t Loss: {}'.format(epoch+1, epoch_losses[-1]))\n",
    "    \n",
    "    # result\n",
    "    train_pred = sess.run(pred, feed_dict={tf_X:X_train, is_train:False})\n",
    "    test_pred = sess.run(pred, feed_dict = {tf_X:X_test, is_train:False})\n",
    "    \n",
    "    saver = tf.train.Saver()\n",
    "    saver.save(sess, 'MNIST/dropout_1024-300/model')"
   ]
  },
  {
   "cell_type": "markdown",
   "metadata": {
    "slideshow": {
     "slide_type": "subslide"
    }
   },
   "source": [
    "## Plot result"
   ]
  },
  {
   "cell_type": "code",
   "execution_count": 28,
   "metadata": {
    "slideshow": {
     "slide_type": "-"
    }
   },
   "outputs": [
    {
     "data": {
      "image/png": "[encoded data removed]",
      "text/plain": [
       "<Figure size 432x288 with 1 Axes>"
      ]
     },
     "metadata": {
      "needs_background": "light"
     },
     "output_type": "display_data"
    },
    {
     "name": "stdout",
     "output_type": "stream",
     "text": [
      "train  accuracy:  1.0\n",
      "test  accuracy:  0.9834\n",
      "[[ 975    0    2    0    0    0    1    1    1    0]\n",
      " [   0 1125    4    1    0    1    2    1    1    0]\n",
      " [   3    1 1010    4    1    0    2    4    7    0]\n",
      " [   0    0    3  996    0    2    0    3    3    3]\n",
      " [   1    0    2    1  969    0    3    0    0    6]\n",
      " [   4    0    0    8    0  871    4    0    3    2]\n",
      " [   4    1    0    1    3    4  943    0    2    0]\n",
      " [   1    4    8    2    1    0    0 1006    2    4]\n",
      " [   4    0    2    3    2    2    1    3  954    3]\n",
      " [   3    2    0    4    9    3    1    2    0  985]]\n"
     ]
    }
   ],
   "source": [
    "# plot epoch losses\n",
    "plot_epoch_losses(epoch_losses)\n",
    "# accuracy\n",
    "print_accuracy(y_train.reshape(-1), np.argmax(train_pred, axis=1), 'train')\n",
    "print_accuracy(y_test.reshape(-1), np.argmax(test_pred, axis=1), 'test')\n",
    "# confusion matrix\n",
    "print_confusion_matrix(y_test.reshape(-1), np.argmax(test_pred, axis=1))"
   ]
  },
  {
   "cell_type": "markdown",
   "metadata": {
    "slideshow": {
     "slide_type": "slide"
    }
   },
   "source": [
    "# Add Batch norm, Dropout Layers"
   ]
  },
  {
   "cell_type": "code",
   "execution_count": 29,
   "metadata": {
    "slideshow": {
     "slide_type": "-"
    }
   },
   "outputs": [],
   "source": [
    "# hyper parameter setting\n",
    "training_epochs = 150\n",
    "learning_rate = 1e-1\n",
    "display_step = 10\n",
    "\n",
    "batch_size = 100\n",
    "\n",
    "hidden_nodes = [1024, 300]\n",
    "activation = tf.nn.tanh\n",
    "dropout_rate = .2"
   ]
  },
  {
   "cell_type": "code",
   "execution_count": 30,
   "metadata": {
    "slideshow": {
     "slide_type": "-"
    }
   },
   "outputs": [],
   "source": [
    "# build 3-layer fully-connected neural network model\n",
    "# hidden layers' size is [1024, 300]\n",
    "tf.reset_default_graph()\n",
    "\n",
    "# placeholder\n",
    "tf_X = tf.placeholder(tf.float32, [None, np.prod(shape)])\n",
    "tf_Y = tf.placeholder(tf.float32, [None, n_class])\n",
    "is_train = tf.placeholder(tf.bool, [])\n",
    "\n",
    "# model\n",
    "output1 = tf.layers.dense(tf_X, hidden_nodes[0])\n",
    "norm1 = tf.contrib.layers.batch_norm(output1)\n",
    "dropout1 = tf.contrib.layers.dropout(norm1, keep_prob=1.-dropout_rate, is_training=is_train)\n",
    "hidden1 = activation(dropout1)\n",
    "output2 = tf.layers.dense(hidden1, hidden_nodes[1])\n",
    "norm2 = tf.contrib.layers.batch_norm(output2)\n",
    "dropout2 = tf.contrib.layers.dropout(norm2, keep_prob=1.-dropout_rate, is_training=is_train)\n",
    "hidden2 = activation(dropout2)\n",
    "logit = tf.layers.dense(hidden2, n_class)\n",
    "pred = tf.nn.softmax(logit)\n",
    "\n",
    "# loss and optimizer\n",
    "loss = tf.losses.softmax_cross_entropy(tf_Y, logit)\n",
    "update_ops = tf.get_collection(tf.GraphKeys.UPDATE_OPS)\n",
    "with tf.control_dependencies(update_ops):\n",
    "    optimizer = tf.train.GradientDescentOptimizer(learning_rate).minimize(loss)"
   ]
  },
  {
   "cell_type": "markdown",
   "metadata": {
    "slideshow": {
     "slide_type": "subslide"
    }
   },
   "source": [
    "## Train & Save model"
   ]
  },
  {
   "cell_type": "code",
   "execution_count": 31,
   "metadata": {
    "slideshow": {
     "slide_type": "-"
    }
   },
   "outputs": [
    {
     "name": "stdout",
     "output_type": "stream",
     "text": [
      "Epoch: 10, \t Loss: 0.051583848893642426\n",
      "Epoch: 20, \t Loss: 0.02568669244647026\n",
      "Epoch: 30, \t Loss: 0.01526144053786993\n",
      "Epoch: 40, \t Loss: 0.01001429557800293\n",
      "Epoch: 50, \t Loss: 0.009892607107758522\n",
      "Epoch: 60, \t Loss: 0.008356807753443718\n",
      "Epoch: 70, \t Loss: 0.0063859401270747185\n",
      "Epoch: 80, \t Loss: 0.006753995548933744\n",
      "Epoch: 90, \t Loss: 0.0051639145240187645\n",
      "Epoch: 100, \t Loss: 0.005135136190801859\n",
      "Epoch: 110, \t Loss: 0.005285375285893679\n",
      "Epoch: 120, \t Loss: 0.0048690312542021275\n",
      "Epoch: 130, \t Loss: 0.0034232831094413996\n",
      "Epoch: 140, \t Loss: 0.0039782836101949215\n",
      "Epoch: 150, \t Loss: 0.003488829592242837\n"
     ]
    }
   ],
   "source": [
    "with tf.Session() as sess:\n",
    "    # init\n",
    "    sess.run(tf.global_variables_initializer())\n",
    "    \n",
    "    # train\n",
    "    epoch_losses, iter_losses = [], []\n",
    "    total_batch = int( train_n_sample / batch_size )\n",
    "    for epoch in range(training_epochs):\n",
    "        # shuffle\n",
    "        random_idx = np.random.permutation(train_n_sample)\n",
    "        shuffled_X_train = X_train[random_idx]\n",
    "        shuffled_Y_train = Y_train[random_idx]\n",
    "        \n",
    "        for i in range(total_batch):\n",
    "            # get batch\n",
    "            batch_X_train = shuffled_X_train[i*batch_size : (i+1)*batch_size]\n",
    "            batch_Y_train = shuffled_Y_train[i*batch_size : (i+1)*batch_size]\n",
    "            \n",
    "            _, l = sess.run([optimizer, loss], \n",
    "                            feed_dict = {tf_X:batch_X_train, tf_Y:batch_Y_train, is_train:True})\n",
    "            iter_losses.append(l)\n",
    "        epoch_losses.append(np.mean(iter_losses[-total_batch:]))\n",
    "        \n",
    "        if (epoch + 1) % display_step == 0:\n",
    "            print('Epoch: {}, \\t Loss: {}'.format(epoch+1, epoch_losses[-1]))\n",
    "    \n",
    "    # result\n",
    "    train_pred = sess.run(pred, feed_dict={tf_X:X_train, is_train:False})\n",
    "    test_pred = sess.run(pred, feed_dict = {tf_X:X_test, is_train:False})\n",
    "    \n",
    "    saver = tf.train.Saver()\n",
    "    saver.save(sess, 'MNIST/batch_norm-dropout_1024-300/model')"
   ]
  },
  {
   "cell_type": "markdown",
   "metadata": {
    "slideshow": {
     "slide_type": "subslide"
    }
   },
   "source": [
    "## Plot result"
   ]
  },
  {
   "cell_type": "code",
   "execution_count": 32,
   "metadata": {
    "slideshow": {
     "slide_type": "-"
    }
   },
   "outputs": [
    {
     "data": {
      "image/png": "[encoded data removed]",
      "text/plain": [
       "<Figure size 432x288 with 1 Axes>"
      ]
     },
     "metadata": {
      "needs_background": "light"
     },
     "output_type": "display_data"
    },
    {
     "name": "stdout",
     "output_type": "stream",
     "text": [
      "train  accuracy:  0.999983333333\n",
      "test  accuracy:  0.9817\n",
      "[[ 971    1    1    0    1    1    1    1    2    1]\n",
      " [   1 1130    2    0    0    0    0    1    1    0]\n",
      " [   5    1 1011    0    3    0    1    5    5    1]\n",
      " [   0    0    4  991    0    4    0    4    4    3]\n",
      " [   0    0    0    1  966    0    5    1    2    7]\n",
      " [   2    0    0   10    1  869    5    1    3    1]\n",
      " [   4    2    1    0    3    5  940    0    3    0]\n",
      " [   1    4    6    1    0    0    0 1009    1    6]\n",
      " [   2    0    4    2    5    3    0    3  952    3]\n",
      " [   3    2    0    5    6    3    2    8    2  978]]\n"
     ]
    }
   ],
   "source": [
    "# plot epoch losses\n",
    "plot_epoch_losses(epoch_losses)\n",
    "# accuracy\n",
    "print_accuracy(y_train.reshape(-1), np.argmax(train_pred, axis=1), 'train')\n",
    "print_accuracy(y_test.reshape(-1), np.argmax(test_pred, axis=1), 'test')\n",
    "# confusion matrix\n",
    "print_confusion_matrix(y_test.reshape(-1), np.argmax(test_pred, axis=1))"
   ]
  },
  {
   "cell_type": "code",
   "execution_count": null,
   "metadata": {
    "slideshow": {
     "slide_type": "skip"
    }
   },
   "outputs": [],
   "source": []
  }
 ],
 "metadata": {
  "celltoolbar": "Slideshow",
  "kernelspec": {
   "display_name": "Tensorflow",
   "language": "python",
   "name": "tensorflow"
  },
  "language_info": {
   "codemirror_mode": {
    "name": "ipython",
    "version": 3
   },
   "file_extension": ".py",
   "mimetype": "text/x-python",
   "name": "python",
   "nbconvert_exporter": "python",
   "pygments_lexer": "ipython3",
   "version": "3.7.4"
  },
  "toc": {
   "base_numbering": 1,
   "nav_menu": {},
   "number_sections": true,
   "sideBar": true,
   "skip_h1_title": false,
   "title_cell": "Table of Contents",
   "title_sidebar": "Contents",
   "toc_cell": false,
   "toc_position": {},
   "toc_section_display": true,
   "toc_window_display": false
  },
  "widgets": {
   "state": {},
   "version": "1.1.2"
  }
 },
 "nbformat": 4,
 "nbformat_minor": 2
}
